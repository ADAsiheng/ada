{
 "cells": [
  {
   "cell_type": "markdown",
   "metadata": {
    "slideshow": {
     "slide_type": "slide"
    }
   },
   "source": [
    "# Stat 404. Design of Experiment\n",
    "\n",
    "Jiahua Chen\n",
    "\n",
    "2019 September\n",
    "\n",
    "Lecture 2. two-sample t-test, randomization test, regression model, one-way anova."
   ]
  },
  {
   "cell_type": "markdown",
   "metadata": {
    "slideshow": {
     "slide_type": "slide"
    }
   },
   "source": [
    "## Some announcements:\n",
    "\n",
    "There is a discussion forum in Canvas:\n",
    "\n",
    "https://canvas.ubc.ca/courses/43346/discussion_topics\n",
    "\n",
    "Please ask questions there out of office hours.\n",
    "\n",
    "\n",
    "There will be some clarification remarks about assignment there (to will be added)"
   ]
  },
  {
   "cell_type": "markdown",
   "metadata": {
    "slideshow": {
     "slide_type": "slide"
    }
   },
   "source": [
    "## Clicker question:\n",
    "\n",
    "Which of the following topics/terms has been discussed in this course so far:\n",
    "\n",
    "A: standardization; B: randomization; C: centralization; C: minimization; D: maximization.\n"
   ]
  },
  {
   "cell_type": "markdown",
   "metadata": {
    "slideshow": {
     "slide_type": "slide"
    }
   },
   "source": [
    "## Two-Sample Problem\n",
    "\n",
    "Two-sample problem should have been discussed in\n",
    "introductory statistic course.\n",
    "\n",
    "* namely, the material to be presented is not new.\n",
    "\n",
    "* it may not be regarded a topic of DoE there.\n",
    "\n",
    "We reveal some principles of DoE are behind the two-sample problem.\n",
    "\n",
    "We refresh the familiar t-test method."
   ]
  },
  {
   "cell_type": "markdown",
   "metadata": {
    "slideshow": {
     "slide_type": "slide"
    }
   },
   "source": [
    "### Typical setting of two-sample problem\n",
    "\n",
    "\n",
    "A typical assignment problem gives students two samples from two populations.\n",
    "\n",
    "The students are asked to use t-test regarding two population means behind these two samples.\n",
    "\n",
    "* differences in other aspects can also be of interest in applications but it is not part of the t-test.\n",
    "\n",
    "* data are often observational: for instance, Stat 404 grades in years 2017 and 2018.\n",
    "\n",
    "In the context of Stat 404, we emphasize its design nature (if any):\n",
    "\n",
    "- The data are collected to compare the effects of two treatments applied to the same physical population (made of experimental units). \n",
    "\n",
    "- The treatments can be: two different medicines, two teaching approaches, chemical reaction at two temperatures. \n"
   ]
  },
  {
   "cell_type": "markdown",
   "metadata": {
    "slideshow": {
     "slide_type": "slide"
    }
   },
   "source": [
    "### In the name of DoE\n",
    "\n",
    "We ask more or less the same questions as the ones in introductory statistics:\n",
    "* does one population have larger mean?\n",
    "\n",
    "* do they have practically the same mean?\n",
    "\n",
    "* do they have different means?\n",
    "\n",
    "An extra layer in DoE is:\n",
    "\n",
    "* the answers to above questions are interpretted as answers regarding two treatments. E.g.\n",
    "\n",
    "    - the new medicine leads to longer mean survival time. \n",
    "\n",
    "    - the new teaching technique helps to improve understanding.\n",
    "\n",
    "**In other words: the comparative nature is the focus of DoE**"
   ]
  },
  {
   "cell_type": "markdown",
   "metadata": {
    "slideshow": {
     "slide_type": "slide"
    }
   },
   "source": [
    "### Standard data analysis\n",
    "\n",
    "Denote the quantitative outcomes to be\n",
    "$$\n",
    "\\mbox{Sample I  }: y_{11}, y_{12}, \\ldots, y_{1 n_1};\n",
    "\\mbox{Sample II }: y_{21}, y_{22}, \\ldots, y_{2 n_2}.\n",
    "$$\n",
    "\n",
    "Let us test for\n",
    "$$\n",
    "H_0: \\mu_1 = \\mu_2;  \\mbox{ vs } H_a: \\mu_1 \\neq \\mu_2.\n",
    "$$\n",
    "\n",
    "Let us do it under the assumptions that two samples\n",
    "are independent, each sample is made of iid observations\n",
    "such that\n",
    "$Y_{ij} \\sim N( \\mu_i; \\sigma^2)$."
   ]
  },
  {
   "cell_type": "markdown",
   "metadata": {
    "slideshow": {
     "slide_type": "slide"
    }
   },
   "source": [
    "### Standard data analysis\n",
    "\n",
    "Compute the sample means and variances\n",
    "$$\n",
    "\\bar y_1 = n_1^{-1} \\sum_{i=1}^{n_1} y_{1i}; ~~~\n",
    "\\bar y_2 = n_2^{-1} \\sum_{i=1}^{n_2} y_{2i}.\n",
    "$$\n",
    "and\n",
    "$$\n",
    "s_1^2 = (n_1-1)^{-1} \\sum_i (y_{1i} - \\bar y_1)^2; ~~\n",
    "s_2^2 = (n_2-1)^{-1} \\sum_i (y_{2i} - \\bar y_2)^2.\n",
    "$$\n",
    "\n",
    "Compute **pooled variance** estimator:\n",
    "$$\n",
    "s^2 =\n",
    "\\frac{(n_1-1) s_1^2 + (n_2 - 1) s_2^2}{n_1 + n_2 - 2}\n",
    "$$\n",
    "then the t-statistic\n",
    "$$\n",
    "T = \\frac{\\bar y_1 - \\bar y_2}{\\sqrt{(1/n_1 + 1/n_2) s^2}}.\n",
    "$$\n"
   ]
  },
  {
   "cell_type": "markdown",
   "metadata": {
    "slideshow": {
     "slide_type": "slide"
    }
   },
   "source": [
    "### Extra words\n",
    "\n",
    "Rationales undermine the t-statistic\n",
    "* $\\bar y_1 - \\bar y_2$ estimates $\\mu_1 - \\mu_2$.\n",
    "\n",
    "* small $|\\bar y_1 - \\bar y_2|$ value indicates that $|\\mu_1 - \\mu_2|$ is also small or even zero.\n",
    "\n",
    "* due to experiment error ($\\sigma^2$), $|\\mu_1 - \\mu_2|= 0$ does not imply $\\bar y_1 - \\bar y_2 =0$.\n",
    "\n",
    "* instead, when $|\\bar y_1 - \\bar y_2|$ is sufficiently small, we conclude that $|\\mu_1 - \\mu_2|= 0$ is an acceptable hypothesis; otherwise, we reject it and adopt $H_a: |\\mu_1 - \\mu_2|\\neq 0$\n",
    "\n",
    "\n",
    "**The only dilemma is: how small is sufficiently small?**\n",
    "\n"
   ]
  },
  {
   "cell_type": "markdown",
   "metadata": {
    "slideshow": {
     "slide_type": "slide"
    }
   },
   "source": [
    "### Statistical reasoning\n",
    "\n",
    "In statistics, we examine how much variation is built in $\\bar y_1 - \\bar y_2$.\n",
    "\n",
    "Under the model assumption, we find\n",
    "$$ Var(\\bar y_1 - \\bar y_2) = (1/n_1 + 1/n_2) \\sigma^2.$$\n",
    "\n",
    "In applications, we are not given the value of $\\sigma^2$.\n",
    "However, pooled variance estimator $s^2$ is a good estimate.\n",
    "\n",
    "Because of this, we get a good metric:\n",
    "$$\n",
    "T = \\frac{\\bar y_1 - \\bar y_2}{\\sqrt{(1/n_1 + 1/n_2) s^2}}.\n",
    "$$\n",
    "\n",
    "Statistic theory reveals that its distribution when $H_0$ is true is\n",
    "t-distribution with degrees of freedom **df** $n_1 + n_2 - 2$.\n"
   ]
  },
  {
   "cell_type": "markdown",
   "metadata": {
    "slideshow": {
     "slide_type": "slide"
    }
   },
   "source": [
    "### How does t-distribution help?\n",
    "\n",
    "* We know t-distribution very well. \n",
    "\n",
    "* The application background is no longer relevant once t-distribution of $T$ is established.\n",
    "\n",
    "* The cdf's of t-distributions are tabulated. \n",
    "\n",
    "* For instance, with 95\\% probability its values are in\n",
    "\n",
    "\n",
    "**df**       5               6               10          $\\infty$\n",
    "\n",
    "Range  [-2.57, 2.57]  [-2.45, 2.45]  [-2.23, 2.23]  [-1.96, 1.96]\n",
    "\n",
    "\n",
    "### In other words, we know how large is un-usually large for the value of $T$.\n"
   ]
  },
  {
   "cell_type": "markdown",
   "metadata": {
    "slideshow": {
     "slide_type": "slide"
    }
   },
   "source": [
    "### Conceptual $T$ and observed $T_{obs}$\n",
    "\n",
    "* The formula $T = \\frac{\\bar y_1 - \\bar y_2}{\\sqrt{(1/n_1 + 1/n_2) s^2}}$ tells how to compute $T$ once data are given.\n",
    "\n",
    "* We use $T_{obs}$ for the realized/observed value of $T$ when its value is obtained based on given data.\n",
    "\n",
    "* we call $P( |T| > |T_{obs}|)$ the p-value for the specific \n",
    "$H_0: \\mu_1 = \\mu_2$ and $H_a: \\mu_1 \\neq \\mu_2$.\n",
    "\n",
    "* if p-value is smaller than $0.05$, $|T_{obs}|$ is deemed unusually large. \n",
    "Namely, it occurs on 1 out of 20 times if $H_0$ holds.\n",
    "\n",
    "* 5% is regarded as acceptable level of risk for wrongly rejecting $H_0$.\n",
    "\n",
    "### Based on such consideration, we reject $H_0$ when p-value is below $0.05$.\n",
    "\n",
    "### It by no means implies that we are sure that $H_0$ is false.\n",
    "\n"
   ]
  },
  {
   "cell_type": "markdown",
   "metadata": {
    "slideshow": {
     "slide_type": "slide"
    }
   },
   "source": [
    "### Why $0.05$ and other important issues\n",
    "\n",
    "* Taking this level of risk is reasonable in some applications (develop new drug).\n",
    "\n",
    "* It is not reasonable in others applications such as delivering a death sentence.\n",
    "\n",
    "* Such a standard is just like the blood alcoholic limit, **A lawful blood-alcohol concentration in British Columbia is 49 mg of alcohol in 100 ml of blood or less **, \n",
    "\n",
    "* The limit is reasonable but the exact limit is not justified by any science.\n",
    "\n",
    "https://vancouvercriminallaw.com/much-can-drink-drive/\n",
    "\n",
    "\n",
    "#### often: statistician claim 5% cut-off point is suggested by scientists, but scientists claim it is proved by statisticians."
   ]
  },
  {
   "cell_type": "markdown",
   "metadata": {
    "slideshow": {
     "slide_type": "slide"
    }
   },
   "source": [
    "### Statistical and scientific significance\n",
    "\n",
    "* Even if one is 99.99\\% sure that one stole an apply from a supermarket, the police-person will not find it \"significant\".\n",
    "\n",
    "* If you witnessed something which has 5\\% chance connected to an unsolved murder, do report it. It can be \"highly significant\".\n",
    "\n",
    "#### After all, the statistical significance merely says that the experimental precision is high enough to detect the deviation from $H_0$.\n",
    "\n",
    "#### We can use replicates to increase the experimental precision and detect ever smaller deviations.\n",
    "\n",
    "#### Scientific significance is not always linked to our ability to detect the deviation."
   ]
  },
  {
   "cell_type": "markdown",
   "metadata": {
    "slideshow": {
     "slide_type": "slide"
    }
   },
   "source": [
    "## Incentives of having p-value lower then 0.05\n",
    "\n",
    "* data are often collected to show the suspected effect exists.\n",
    "\n",
    "* \"existence\" is equated to \"statistical scienficance\" and then purposely confused with \"scientific significance\".\n",
    "\n",
    "* \"significance\" leads to \"publications\", then to \"research achievement\", then to \"promotion\" and \"funding\".\n",
    "\n",
    "* It is not hard to fake \"statistical significance\".\n",
    "\n",
    "* It is hard to not fake \"statistical significance\".\n",
    "\n",
    "* It is not very hard to place serious doubt on \"significant findings\".\n"
   ]
  },
  {
   "cell_type": "markdown",
   "metadata": {
    "slideshow": {
     "slide_type": "slide"
    }
   },
   "source": [
    "## Data Example: source: Example 2.4 of Tamhane\n",
    "\n",
    "\n",
    "An experiment was conducted to evaluate the effect of seeding clouds on rainfuall with silver nitrate.\n",
    "\n",
    "It was done by randomly seeding 26 of 52 clouds.\n",
    "\n",
    "The response variable is chosen to be rainfall measured in nearest acre-feet.\n",
    "\n",
    "The data will be shown next\n"
   ]
  },
  {
   "cell_type": "markdown",
   "metadata": {
    "slideshow": {
     "slide_type": "slide"
    }
   },
   "source": [
    "## Seeded:\n",
    "\n",
    "2746, 1698, 1656, 978, 703, 489, 430, 334, 303, 275, 275, 255, 243, 201, 199, 130, 119, 118, 115, 92, 41, 33, 31, 18, 8, 4.\n",
    "\n",
    "## Unseeded:\n",
    "\n",
    "1203, 830, 372, 346, 321, 244, 163, 148, 95, 87, 81, 69, 47, 41, 37, 29, 29, 26, 26, 24, 23, 17, 12, 5, 5, 1\n",
    "\n",
    "\n",
    "It is seen we have two samples with sample sizes $n_1 = n_2 = 26$."
   ]
  },
  {
   "cell_type": "code",
   "execution_count": 22,
   "metadata": {
    "slideshow": {
     "slide_type": "slide"
    }
   },
   "outputs": [
    {
     "name": "stdout",
     "output_type": "stream",
     "text": [
      "[1] 442.0769 164.6538\n",
      "[1] 423561.51  77526.96\n",
      "[1] 5.46341\n"
     ]
    }
   ],
   "source": [
    "## Have a look of data:\n",
    "\n",
    "xx = c(2746, 1698, 1656, 978, 703, 489, 430, 334, 303, 275, 275, 255, 243, 201, 199, 130, 119, 118, 115, 92, 41, 33, 31, 18, 8, 4)\n",
    "\n",
    "yy <- c(1203, 830, 372, 346, 321, 244, 163, 148, 95, 87, 81, 69, 47, 41, 37, 29, 29, 26, 26, 24, 23, 17, 12, 5, 5, 1)\n",
    "\n",
    "print(c(mean(xx), mean(yy)))\n",
    "print(c(var(xx), var(yy)))\n",
    "print(var(xx)/var(yy))"
   ]
  },
  {
   "cell_type": "code",
   "execution_count": 23,
   "metadata": {
    "slideshow": {
     "slide_type": "slide"
    }
   },
   "outputs": [
    {
     "data": {
      "image/png": "[encoded data removed]",
      "text/plain": [
       "Plot with title “Histogram of yy”"
      ]
     },
     "metadata": {},
     "output_type": "display_data"
    }
   ],
   "source": [
    "## Plot the data:\n",
    "\n",
    "par(mfrow = c(1, 2))\n",
    "hist(xx)\n",
    "hist(yy)\n",
    "\n",
    "### they do not look \"normal at all\". Far from having equal variance"
   ]
  },
  {
   "cell_type": "code",
   "execution_count": 24,
   "metadata": {
    "slideshow": {
     "slide_type": "slide"
    }
   },
   "outputs": [
    {
     "data": {
      "image/png": "[encoded data removed]",
      "text/plain": [
       "Plot with title “Histogram of yy”"
      ]
     },
     "metadata": {},
     "output_type": "display_data"
    }
   ],
   "source": [
    "## long transformation makes the data more normal:\n",
    "\n",
    "xx = log(xx)\n",
    "\n",
    "yy <- log(yy)\n",
    "\n",
    "par(mfrow = c(1, 2))\n",
    "hist(xx)\n",
    "hist(yy)\n",
    "\n",
    "## better though not perfect"
   ]
  },
  {
   "cell_type": "code",
   "execution_count": 25,
   "metadata": {
    "slideshow": {
     "slide_type": "slide"
    }
   },
   "outputs": [
    {
     "name": "stdout",
     "output_type": "stream",
     "text": [
      "[1] 5.136072 3.994739\n",
      "[1] 2.551227 2.681289\n",
      "[1] 0.9514927\n"
     ]
    }
   ],
   "source": [
    "## other aspect of the transformed data\n",
    "\n",
    "print(c(mean(xx), mean(yy)))\n",
    "print(c(var(xx), var(yy)))\n",
    "print(var(xx)/var(yy))\n",
    "\n",
    "## All look fine in order to use t-test here."
   ]
  },
  {
   "cell_type": "code",
   "execution_count": 26,
   "metadata": {
    "slideshow": {
     "slide_type": "slide"
    }
   },
   "outputs": [
    {
     "name": "stdout",
     "output_type": "stream",
     "text": [
      "[1] -2.54415648  0.01409024\n"
     ]
    }
   ],
   "source": [
    "## Test for the equal mean hypothesis based on transformed data\n",
    "\n",
    "ssPool = (25*var(yy) + 25*var(xx))/50\n",
    "\n",
    "Tobs = (mean(yy) - mean(xx))/sqrt((1/26+1/26)*ssPool)\n",
    "                                \n",
    "pValue = 2*(1 - pt(abs(Tobs), 50))\n",
    "                                   \n",
    "print(c(Tobs, pValue))\n",
    "\n",
    "## p-value is below 0.05. Based on usual 5% standard, we reject H_0."
   ]
  },
  {
   "cell_type": "markdown",
   "metadata": {
    "slideshow": {
     "slide_type": "slide"
    }
   },
   "source": [
    "## Other thoughts of this example:\n",
    "\n",
    "* It may be most relevant for us to test one-sided alternative:\n",
    "    - seeding increases the amount of rainfall.\n",
    "    \n",
    "* who decides if we should be interested in difference in \"mean amount\" or \"mean log-amount\".\n",
    "    - change the question based on the need of normality assumption is absurd.\n",
    "    \n",
    "* how important are these assumptions to ensure the validity of t-test?\n",
    "    - the histograms merely reveals no serious contradiction to normality\n",
    "    - the transformed samples have nearly equal variance.\n",
    "    \n",
    "\n",
    "    "
   ]
  },
  {
   "cell_type": "markdown",
   "metadata": {
    "slideshow": {
     "slide_type": "slide"
    }
   },
   "source": [
    "## Othere issues\n",
    "\n",
    "What do we do when the alternative is one-sided?\n",
    "\n",
    "Just watch which side of $T_{obs}$ makes the outcome more \"extreme\":\n",
    "\n",
    "    - Smaller $T_{obs}$ indicates increased amount of rainfall in this example.\n",
    "\n"
   ]
  },
  {
   "cell_type": "code",
   "execution_count": 27,
   "metadata": {
    "slideshow": {
     "slide_type": "slide"
    }
   },
   "outputs": [
    {
     "name": "stdout",
     "output_type": "stream",
     "text": [
      "[1] -2.544156479  0.007045119\n"
     ]
    }
   ],
   "source": [
    "# One-sided test:\n",
    "\n",
    "ssPool = (25*var(yy) + 25*var(xx))/50\n",
    "\n",
    "Tobs = (mean(yy) - mean(xx))/sqrt((1/26+1/26)*ssPool)\n",
    "                                \n",
    "pValue = pt(Tobs, 50)\n",
    "\n",
    "print(c(Tobs, pValue))\n",
    "\n",
    "## The evidence is judge more significant with smaller p-value."
   ]
  },
  {
   "cell_type": "code",
   "execution_count": 28,
   "metadata": {
    "slideshow": {
     "slide_type": "slide"
    }
   },
   "outputs": [
    {
     "data": {
      "text/plain": [
       "\n",
       "\tTwo Sample t-test\n",
       "\n",
       "data:  xx and yy\n",
       "t = 2.5442, df = 50, p-value = 0.01409\n",
       "alternative hypothesis: true difference in means is not equal to 0\n",
       "95 percent confidence interval:\n",
       " 0.2402741 2.0423920\n",
       "sample estimates:\n",
       "mean of x mean of y \n",
       " 5.136072  3.994739 \n"
      ]
     },
     "metadata": {},
     "output_type": "display_data"
    }
   ],
   "source": [
    "## R programming language can do it in one strike.\n",
    "\n",
    "t.test(xx, yy, var.equal = T)"
   ]
  },
  {
   "cell_type": "code",
   "execution_count": 29,
   "metadata": {
    "slideshow": {
     "slide_type": "slide"
    }
   },
   "outputs": [
    {
     "data": {
      "text/plain": [
       "\n",
       "\tWelch Two Sample t-test\n",
       "\n",
       "data:  xx and yy\n",
       "t = 2.5442, df = 49.969, p-value = 0.01409\n",
       "alternative hypothesis: true difference in means is not equal to 0\n",
       "95 percent confidence interval:\n",
       " 0.2402603 2.0424058\n",
       "sample estimates:\n",
       "mean of x mean of y \n",
       " 5.136072  3.994739 \n"
      ]
     },
     "metadata": {},
     "output_type": "display_data"
    }
   ],
   "source": [
    "## R programming language can do it in one strike.\n",
    "\n",
    "t.test(xx, yy, var.equal = F)\n",
    "\n",
    "## analysis under unequal variance assumption gives very similar p-value."
   ]
  },
  {
   "cell_type": "markdown",
   "metadata": {
    "slideshow": {
     "slide_type": "slide"
    }
   },
   "source": [
    "## We will skip the other topic about t.test and move on. "
   ]
  },
  {
   "cell_type": "markdown",
   "metadata": {
    "slideshow": {
     "slide_type": "slide"
    }
   },
   "source": [
    "## Limitations of two-sample t-test\n",
    "\n",
    "When normality assumption is violated, the analysis based on t-test can be invalid:\n",
    "\n",
    "* the null hypothesis may be rejected with much higher than 5% probablity even it is true\n",
    "* the size of the test can be much lower than believed 5% by rarely rejecting any even when $H_0$ is false.\n",
    "\n",
    "The same can happen when two variances are not equal.\n",
    "\n",
    "\n",
    "### In fact, two sample t-test is highly robust: when it is applied to not-so-normal data, its type I error remains tightly controled. \n",
    "\n",
    "### If you use 5% as your nominal level, the type I error will not exceed it markedly."
   ]
  },
  {
   "cell_type": "markdown",
   "metadata": {
    "slideshow": {
     "slide_type": "slide"
    }
   },
   "source": [
    "### Remedies:\n",
    "\n",
    "#### In case you really want to, here is another viable approach.\n",
    "\n",
    "* data transformation to improve the normality;\n",
    "\n",
    "* use Welch two-sample t-test to allow equal variances.\n",
    "\n",
    "\n",
    "### Any other approaches?"
   ]
  },
  {
   "cell_type": "markdown",
   "metadata": {
    "slideshow": {
     "slide_type": "slide"
    }
   },
   "source": [
    "## Randomization test\n",
    "\n",
    "Let the observed values be $$y_{11}, y_{12}, \\ldots, y_{n_1}; y_{21}, y_{22}, \\ldots, y_{2n_2}.$$\n",
    "\n",
    "* Suppose all experimental units are homogeneous enough.\n",
    "\n",
    "* Assume two treatments are randomized assigned to $n_1 + n_2$ experimental units.\n",
    "\n",
    "* Suppose two treatments are not different.\n",
    "\n",
    "If so, we would not notice anything unusual if we are told that the outcomes are:\n",
    "$$\n",
    "y_{21}, y_{12}, \\ldots, y_{n_1}; y_{11}, y_{22}, \\ldots, y_{2n_2}.\n",
    "$$"
   ]
  },
  {
   "cell_type": "markdown",
   "metadata": {
    "slideshow": {
     "slide_type": "slide"
    }
   },
   "source": [
    "## Randomization test\n",
    "\n",
    "In fact, by permuting these observations, we\n",
    "get ${n_1+n_2\\choose n_1}$ different partitions.\n",
    "\n",
    "Each of them has its own value of $\\bar y_1 - \\bar y_2$.\n",
    "\n",
    "When $n_1 = 10, n_2=10$, we have 184756 such values (some are equal).\n",
    "\n",
    "Suppose the $\\bar y_1 - \\bar y_2$ based on the correct partition is the largest among them.\n",
    "\n",
    "The chance of having such an extreme outcome is so low that we\n",
    "turn around to suspect the truthfulness of $H_0$.\n",
    "\n"
   ]
  },
  {
   "cell_type": "markdown",
   "metadata": {
    "slideshow": {
     "slide_type": "slide"
    }
   },
   "source": [
    "### p-value for two-sided alternative\n",
    "\n",
    "Let $d_{obs} = \\bar y_1 - \\bar y_2$: the real difference in two sample means.\n",
    "\n",
    "Let $d_i$ be value of $\\bar y_1 - \\bar y_2$ based on permuted observations, $i=1, 2, \\ldots, {n_1+n_2 \\choose n_1}$.\n",
    "\n",
    "Let $c_1= no. \\{|d_i| > |d_{obs}|\\}$, and $c_2 = no. \\{|d_i| = |d_{obs}|\\}$\n",
    "\n",
    "The percentage of $d_i$ having more extreme absolute value is defined as p-value\n",
    "*  pvalue $= (c_1 + 0.5c_2)/{n_1+n_2 \\choose n_1} $.\n",
    "\n",
    "We reject $H_0$ if the p-value is smaller than 0.05 (or other pre-agreed level)."
   ]
  },
  {
   "cell_type": "code",
   "execution_count": 30,
   "metadata": {
    "slideshow": {
     "slide_type": "slide"
    }
   },
   "outputs": [
    {
     "name": "stdout",
     "output_type": "stream",
     "text": [
      "[1] \"d.obs and pvalue\"\n",
      "[1] 277.4231   0.0458\n"
     ]
    }
   ],
   "source": [
    "### Data example:\n",
    "xx = c(2746, 1698, 1656, 978, 703, 489, 430, 334, 303, 275, 275, 255, 243, 201, 199, 130, 119, 118, 115, 92, 41, 33, 31, 18, 8, 4)\n",
    "yy <- c(1203, 830, 372, 346, 321, 244, 163, 148, 95, 87, 81, 69, 47, 41, 37, 29, 29, 26, 26, 24, 23, 17, 12, 5, 5, 1)\n",
    "zz = c(xx, yy)\n",
    "#print(zz)\n",
    "# we cannot afford to compute all permutations: do 10000 of them.\n",
    "d.obs = mean(xx) - mean(yy); dd = rep(0, 10000)\n",
    "for(i in 1:10000) { ind = sample(1:52, 26); dd[i] = mean(zz[ind]-zz[-ind])}\n",
    "pvalue = mean(abs(d.obs) < abs(dd))+ 0.5*mean(abs(d.obs) == abs(dd))\n",
    "print(\"d.obs and pvalue\")\n",
    "print(c(d.obs, pvalue))"
   ]
  },
  {
   "cell_type": "code",
   "execution_count": 31,
   "metadata": {
    "slideshow": {
     "slide_type": "slide"
    }
   },
   "outputs": [
    {
     "name": "stdout",
     "output_type": "stream",
     "text": [
      "[1] \"d.obs and pvalue\"\n",
      "[1] 1.141333 0.015100\n"
     ]
    }
   ],
   "source": [
    "### Data example (log transformed):\n",
    "zz = c(xx, yy); zz = log(zz)\n",
    "#print(zz)\n",
    "# we cannot afford to compute all permutations: do 10000 of them.\n",
    "d.obs = mean(zz[1:26]) - mean(zz[27:52]); dd = rep(0, 10000)\n",
    "for(i in 1:10000) { ind = sample(1:52, 26); dd[i] = mean(zz[ind]-zz[-ind])}\n",
    "pvalue = mean(abs(d.obs) < abs(dd))+ 0.5*mean(abs(d.obs) == abs(dd))\n",
    "print(\"d.obs and pvalue\")\n",
    "print(c(d.obs, pvalue))\n",
    "## note that the p-value is very close to the one based on two-sided t-test"
   ]
  },
  {
   "cell_type": "code",
   "execution_count": 32,
   "metadata": {
    "scrolled": true,
    "slideshow": {
     "slide_type": "slide"
    }
   },
   "outputs": [
    {
     "data": {
      "text/plain": [
       "\n",
       "\tWelch Two Sample t-test\n",
       "\n",
       "data:  xx and yy\n",
       "t = 1.9984, df = 33.855, p-value = 0.05376\n",
       "alternative hypothesis: true difference in means is not equal to 0\n",
       "95 percent confidence interval:\n",
       "  -4.749593 559.595747\n",
       "sample estimates:\n",
       "mean of x mean of y \n",
       " 442.0769  164.6538 \n"
      ]
     },
     "metadata": {},
     "output_type": "display_data"
    },
    {
     "data": {
      "text/plain": [
       "\n",
       "\tWelch Two Sample t-test\n",
       "\n",
       "data:  log(xx) and log(yy)\n",
       "t = 2.5442, df = 49.969, p-value = 0.01409\n",
       "alternative hypothesis: true difference in means is not equal to 0\n",
       "95 percent confidence interval:\n",
       " 0.2402603 2.0424058\n",
       "sample estimates:\n",
       "mean of x mean of y \n",
       " 5.136072  3.994739 \n"
      ]
     },
     "metadata": {},
     "output_type": "display_data"
    }
   ],
   "source": [
    "t.test(xx, yy, var.equal = F)\n",
    "t.test(log(xx), log(yy))"
   ]
  },
  {
   "cell_type": "markdown",
   "metadata": {
    "slideshow": {
     "slide_type": "slide"
    }
   },
   "source": [
    "### Another use of randomization\n",
    "\n",
    "Randomization in two-sample experiment justifies randomization (permulation) test."
   ]
  },
  {
   "cell_type": "markdown",
   "metadata": {
    "slideshow": {
     "slide_type": "slide"
    }
   },
   "source": [
    "## Summary:\n",
    "\n",
    "Please help."
   ]
  },
  {
   "cell_type": "markdown",
   "metadata": {},
   "source": [
    "## Clicker question\n",
    "\n",
    "Which of the following is not assumed for complete validity of t-test?\n",
    "\n",
    "* A: data are normally distributed\n",
    "* B: the variances of two populations are equal\n",
    "* C: the means of two populations are equal\n",
    "* D: observations are independent of each other\n"
   ]
  },
  {
   "cell_type": "markdown",
   "metadata": {
    "slideshow": {
     "slide_type": "slide"
    }
   },
   "source": [
    "## Lecture 2.2: Regression analysis\n",
    "\n",
    "We have smuggled some DoE contents into 2-sample t-test so far.\n",
    "\n",
    "Before getting truly serious about DoE, it appears we should re-enforce our knowledge on regression analysis.\n",
    "\n",
    "By this, I mean univariate and multivariate linear regression analysis.\n",
    "\n"
   ]
  },
  {
   "cell_type": "markdown",
   "metadata": {
    "slideshow": {
     "slide_type": "slide"
    }
   },
   "source": [
    "### Regression\n",
    "\n",
    "Who coined the term regression?\n",
    "\n",
    "**Francis Galton**\n",
    "\n",
    "The term \"regression\" was coined by Francis Galton in the nineteenth century to describe a biological phenomenon. \n",
    "\n",
    "The phenomenon was that the heights of descendants of tall ancestors tend to regress down towards a normal average (a phenomenon also known as regression toward the mean).\n"
   ]
  },
  {
   "cell_type": "markdown",
   "metadata": {
    "slideshow": {
     "slide_type": "slide"
    }
   },
   "source": [
    "### Statistical definition\n",
    "\n",
    "Let $Y$ be the height of the first son (if any), and $X$ be the height of the father of a randomly sampled pair from a biological population.\n",
    "                                        \n",
    "Due to inheritance, it is well known that tall fathers give birth of tall sons on average but not in every case.\n",
    "\n",
    "The average height of the son given the height of his father is given by\n",
    "\n",
    "$ g(x) = E(Y| X = x)$.\n",
    "\n",
    "Mathematical, it is a function of $x$, and statistically we call it \"regression function\".\n"
   ]
  },
  {
   "cell_type": "markdown",
   "metadata": {
    "slideshow": {
     "slide_type": "slide"
    }
   },
   "source": [
    "### Data and fitting of regression function.\n",
    "\n",
    "When $X$ and $Y$ are highly relevant, then we may collect a lot of data (observational or experimental) ($x_i, y_i$) based on which we hope to get a good idea on $g(x)$.\n",
    "\n",
    "This is the major task of statistics.\n",
    "\n",
    "The task is much simpler if a reasonable structure is imposed on how they are connected.\n",
    "\n",
    "This leads to the model assumptions unopposed in general."
   ]
  },
  {
   "cell_type": "markdown",
   "metadata": {
    "slideshow": {
     "slide_type": "slide"
    }
   },
   "source": [
    "### Linear regression model.\n",
    "\n",
    "In many applications, it is reasonable to assume that \n",
    "$ Y = \\alpha + \\beta X + \\epsilon$\n",
    "between a response variable $Y$ and design-variable/covariate/prediction-variable/independent-variable/whatever-variable\n",
    "for some unknown and nonrandom constants $\\alpha$ and $\\beta$.\n",
    "\n",
    "In some applications such as DoE, $X$ may not be random at all. In observational studies, $X$ is usually random.\n",
    "\n",
    "In all cases, $\\epsilon$ is a zero-mean random variable, and $X$ and $\\epsilon$ are assumed independent.\n",
    "\n",
    "The most demanding assumption is that $\\epsilon \\sim N(0, \\sigma^2)$.\n",
    "\n",
    "A less demanding assumption is that $E(\\epsilon) = 0$ and $Var(\\epsilon) = \\sigma^2 < \\infty$.\n"
   ]
  },
  {
   "cell_type": "markdown",
   "metadata": {
    "slideshow": {
     "slide_type": "slide"
    }
   },
   "source": [
    "### The non-intuitive reason why it is called \"linear\"\n",
    "\n",
    "Under this assumption, $E(Y|X= x) = \\alpha + \\beta x$ with $\\alpha$ and $\\beta$ \n",
    "values unknown and to be estimated based on data.\n",
    "\n",
    "When $E(Y|X= x)$ is regarded as function of $\\alpha$ and $\\beta$, it is linear. \n",
    "This is the reason why it is called \"linear regression\".\n",
    "\n",
    "The model $ Y = \\alpha + \\beta_1 X + \\beta_2 X^2 + \\epsilon$ is still linear. \n",
    "It is linear in $\\alpha, \\beta_1$ and $\\beta_2$, but not in $x$.\n",
    "\n",
    "The model $ Y = \\alpha + \\alpha^2 X + \\epsilon$ is no longer linear. \n",
    "It is quadratic in $\\alpha$.\n",
    "\n"
   ]
  },
  {
   "cell_type": "markdown",
   "metadata": {
    "slideshow": {
     "slide_type": "slide"
    }
   },
   "source": [
    "### Data from the linear regression model.\n",
    "\n",
    "We may simply collect father-and-son height data to get ($x_i, y_i$). \n",
    "Each pair is regarded as independently realised values of random variables in $Y = \\alpha + \\beta X + \\epsilon$.\n",
    "\n",
    "We may forcefully collect data with specific sets of $x_i$ values and obtain the response values $y_i$.\n",
    "\n",
    "The former is observational and the latter is experimental.\n",
    "\n",
    "Most aspects of statistical data analysis do not depend on the type of data, \n",
    "but the interpretation of the results may."
   ]
  },
  {
   "cell_type": "markdown",
   "metadata": {},
   "source": [
    "### More often than not, we have more than 2 prediction variable so that data must be described as\n",
    "$$\n",
    " y_i = \\beta_0 + \\beta_1 x_{i1} + \\cdots + \\beta_p x_{ik} + \\epsilon_i, ~~i=1,2, \\ldots, N\n",
    "$$\n",
    "\n",
    "for $N$ independent observation and $k$ prediction variables. \n",
    "\n",
    "These $N$ equations can be written in matrix form\n",
    "$$\n",
    " {\\bf y} = {\\bf X} {\\mathbf \\beta} + {\\mathbf \\epsilon}.\n",
    "$$\n",
    "in which ${\\bf y}$ and ${\\mathbf \\epsilon}$\n",
    "are vectors of length $N$, ${\\bf X}$ a design matrix of size $N \\times (p+1)$\n",
    "and ${\\mathbf \\beta}$ is the regression coefficient vector of length $p+1$.\n"
   ]
  },
  {
   "cell_type": "markdown",
   "metadata": {
    "slideshow": {
     "slide_type": "slide"
    }
   },
   "source": [
    "### Point estimation\n",
    "\n",
    "Okay, Okay, we get the model assumption and data. Tell me what is next!\n",
    "\n"
   ]
  },
  {
   "cell_type": "code",
   "execution_count": 33,
   "metadata": {
    "slideshow": {
     "slide_type": "slide"
    }
   },
   "outputs": [
    {
     "name": "stdout",
     "output_type": "stream",
     "text": [
      "          V1   V2   V3     V4\n",
      "[1,] 1 18.00 27.8 96.0 1011.7\n",
      "[2,] 1 27.75 26.9 69.3  944.0\n",
      "[3,] 1  8.00 34.5 14.4  976.9\n",
      "[4,] 1 25.30 31.3 93.3  958.7\n",
      "[5,] 1 18.00 28.4 59.8  871.4\n"
     ]
    },
    {
     "data": {
      "image/png": "[encoded data removed]",
      "text/plain": [
       "plot without title"
      ]
     },
     "metadata": {},
     "output_type": "display_data"
    }
   ],
   "source": [
    "## We use data from Wu and Hamada about Gasoline Consumption.\n",
    "\n",
    "#This data set has 4 x-variable and one response variable y.\n",
    "\n",
    "\n",
    "xx = read.table(\"JeffData1a14.txt\")\n",
    "x = as.matrix(xx)\n",
    "y = x[, 5]\n",
    "x = cbind(rep(1, 51), x[,1:4])\n",
    "print(x[1:5,])\n",
    "\n",
    "plot(x[,2], y)\n",
    "\n",
    "# Not too bad: the average y value given x[,2] is roughly linear with negative slope.\n"
   ]
  },
  {
   "cell_type": "code",
   "execution_count": 34,
   "metadata": {},
   "outputs": [
    {
     "data": {
      "image/png": "[encoded data removed]",
      "text/plain": [
       "plot without title"
      ]
     },
     "metadata": {},
     "output_type": "display_data"
    }
   ],
   "source": [
    "##How about other prediction variables\n",
    "\n",
    "par(mfrow=c(2,2))\n",
    "plot(x[,2], y)\n",
    "plot(x[,3], y)\n",
    "plot(x[,4], y)\n",
    "plot(x[,5], y)"
   ]
  },
  {
   "cell_type": "markdown",
   "metadata": {
    "slideshow": {
     "slide_type": "slide"
    }
   },
   "source": [
    "## Point estimation\n",
    "\n",
    "### It is our educated and data supported guess of what ${\\mathbf \\beta}$ value is.\n",
    "\n",
    "\n",
    "For estimating ${\\mathbf \\beta}$, we look for value $\\hat {\\mathbf \\beta}$ that minimizes\n",
    "$\n",
    " ({\\bf y} - {\\bf X} {\\mathbf \\beta})^T ({\\bf y} - {\\bf X} {\\mathbf \\beta}).\n",
    "$\n",
    "\n",
    "The solution is given by\n",
    "$\n",
    " \\hat {\\mathbf \\beta} = ( {\\bf X}^T  {\\bf X})^{-1}  {\\bf X}^T {\\bf y}.\n",
    "$\n",
    "\n",
    "We call $ {\\bf r} = {\\bf y} - {\\bf X} \\hat {\\mathbf \\beta}~$ **residuals**;\n",
    "$\\hat {\\bf y} = {\\bf X} \\hat {\\mathbf \\beta}~$ **fitted values** and $\\hat {\\mathbf \\beta}~$ the **least squares estimate**.\n",
    " \n",
    "Under normality assumption on $\\epsilon$, $\\hat {\\mathbf \\beta}~$ is also the maximum likelihood\n",
    "estimate of ${\\mathbf \\beta}$."
   ]
  },
  {
   "cell_type": "markdown",
   "metadata": {
    "slideshow": {
     "slide_type": "slide"
    }
   },
   "source": [
    "## Prediction\n",
    "\n",
    "If the model is a good approximation to the real world, then our best guess of the\n",
    "expected $y$ value at ${\\bf x}$ is ${\\bf x} \\hat{\\mathbf \\beta}$: the fitted value.\n",
    "\n",
    "A 95% CI for ${\\bf x} {\\mathbf \\beta}$ is \n",
    "$~~~{\\bf x} \\hat{\\mathbf \\beta} \\pm t_{n-k-1, 0.975} \\sqrt{var({\\bf x} \\hat{\\mathbf \\beta})}$.\n",
    "\n",
    "where $t_{n-k-1, 0.975}$ the 97.5% \n",
    "quantile of the t-distribution with $n-k-1$ degrees of freedom and\n",
    "$$var({\\bf x} \\hat{\\mathbf \\beta}) = {\\bf x}({\\bf X}^T{\\bf X})^{-1}{\\bf x}^T.$$"
   ]
  },
  {
   "cell_type": "markdown",
   "metadata": {
    "slideshow": {
     "slide_type": "slide"
    }
   },
   "source": [
    "## Beyond simple estimation\n",
    "\n",
    "One immediate question is whether the linear model\n",
    "is useful at all in explaining the variation in $y$. \n",
    "\n",
    "Before any covariates are used to explain, the total variation in ${\\bf y}$ is \n",
    "\n",
    "$\n",
    "({\\bf y} - \\bar {\\bf y})^T ({\\bf y} - \\bar {\\bf y}) = {\\bf y}^T {\\bf y} - \\bar {\\bf y}^T \\bar {\\bf y}\n",
    "$\n",
    "\n",
    "where $\\bar {\\bf y}$ is the vector of mean response, or the average.\n",
    "\n",
    "** If there is no variation in ${\\bf y}$, there is no point of any data analysis nor regression model."
   ]
  },
  {
   "cell_type": "markdown",
   "metadata": {
    "slideshow": {
     "slide_type": "slide"
    }
   },
   "source": [
    "## The regression analysis aims to use ${\\bf X}$ to explain the variation\n",
    "\n",
    "Let $\\bar {\\bf X}$ be a matrix with all rows equal \n",
    "$N^{-1} \\sum_{i=1}^N  (1, x_{i1}, x_{i2}, \\ldots, x_{ik})$\n",
    "so that ${\\bf X} - \\bar {\\bf X}$ is the centered ${\\bf X}$ in columns. \n",
    "\n",
    "It is easy to verify that with intercept included in the model, we have\n",
    "$$\n",
    "\\bar {\\bf y} = \\bar {\\bf X} \\hat {\\mathbf \\beta}.\n",
    "$$\n",
    "\n",
    "Simple algebra (do you need me to do more?) gives us\n",
    "$$\n",
    "{\\bf y}^T{\\bf y}\n",
    "=\n",
    "\\hat {\\mathbf \\beta}^T ({\\bf X}^T {\\bf X}) \\hat {\\mathbf \\beta} \n",
    "  + ({\\bf y} - {\\bf X} \\hat {\\mathbf \\beta})^T  ({\\bf y} - {\\bf X} \\hat {\\mathbf \\beta})\n",
    "$$\n",
    "which implies\n",
    "$$\n",
    "\\hat {\\mathbf \\beta}^T ({\\bf X}^T {\\bf X}) \\hat {\\mathbf \\beta}\n",
    "=\n",
    " \\hat {\\mathbf \\beta}^T ({\\bf X}-\\bar {\\bf X})^T({\\bf X} - \\bar {\\bf X}) \\hat {\\mathbf \\beta}  \n",
    " + \\bar {\\bf y}^T \\bar {\\bf y}.\n",
    "$$\n",
    " "
   ]
  },
  {
   "cell_type": "markdown",
   "metadata": {
    "slideshow": {
     "slide_type": "slide"
    }
   },
   "source": [
    " \n",
    "These algebras lead to the quadratic decomposition\n",
    "$$\n",
    "{\\bf y}^T{\\bf y}\n",
    "-\n",
    " \\bar {\\bf y}^T \\bar {\\bf y} \n",
    "=  \\hat {\\mathbf \\beta}^T ({\\bf X}-\\bar {\\bf X})^T({\\bf X} - \\bar {\\bf X}) \\hat {\\mathbf \\beta}\n",
    " + ({\\bf y} - {\\bf X} \\hat {\\mathbf \\beta})^T  ({\\bf y} - {\\bf X} \\hat {\\mathbf \\beta}).\n",
    "$$\n",
    "\n",
    "The total variation in $y$ is decomposed to the variation due to the grand mean, $\\bar {\\bf y}$,\n",
    "the linear structure $({\\bf X} - \\bar {\\bf X}) \\hat {\\mathbf \\beta}$ \n",
    "and the residual $({\\bf y} - {\\bf X} \\hat {\\mathbf \\beta})$.\n",
    "\n",
    "This decomposition results in the analysis of variance table (ANOVA):"
   ]
  },
  {
   "cell_type": "markdown",
   "metadata": {
    "slideshow": {
     "slide_type": "slide"
    }
   },
   "source": [
    "## ANOVA Table for General Linear Model\n",
    "\n",
    "|Source | --------Df-------- | -------------SS------------- |  -----------------MSS------------------ | \n",
    "| --- | --- | --- | --- |\n",
    "|regression | $k$ | $\\hat{\\mathbf\\beta}^T{\\bf X}^T{\\bf X}\\hat{\\mathbf\\beta}-\\bar{\\bf y}^T\\bar{\\bf y}$| $(\\hat{\\mathbf\\beta}^T{\\bf X}^T{\\bf X}\\hat{\\mathbf \\beta}-\\bar{\\bf y}^T\\bar{\\bf y})/k$|\n",
    "| --- | --- | --- | --- |\n",
    "|residual | $N-k-1$ | $(\\bar {\\bf y} - {\\bf X} \\hat{\\mathbf \\beta})^T  (\\bar {\\bf y} - {\\bf X} \\hat{\\mathbf \\beta}) $| $(\\bar {\\bf y} - {\\bf X}\\hat{\\mathbf \\beta})^T(\\bar {\\bf y} - {\\bf X} \\hat{\\mathbf \\beta})/(N-k-1)$|\n",
    "| --- | --- | --- | --- |\n",
    "|total(corrected) | $N-1$ | ${\\bf y}^T{\\bf y}- \\bar{\\bf y}^T\\bar{\\bf y}$|--- |\n",
    "\n",
    "\n",
    "Note that our $\\bar {\\bf y}$ is a vector which makes $\\bar{\\bf y}^T \\bar {\\bf y} = N \\bar y^2$."
   ]
  },
  {
   "cell_type": "markdown",
   "metadata": {
    "slideshow": {
     "slide_type": "slide"
    }
   },
   "source": [
    "### What proportion of the variation has been explained by the regression? \n",
    "\n",
    "One way to quantify it is through the ratio of two sums of squares\n",
    "$$\n",
    "R^2 = \\frac{\\hat {\\mathbf \\beta}^T {\\bf X}^T {\\bf X} \\hat {\\mathbf \\beta} -  \\bar {\\bf y}^t \\bar {\\bf y}}{{\\bf y}^T {\\bf y} - \\bar {\\bf y}^T \\bar {\\bf y}}.\n",
    "$$\n",
    "This value tells us the percentage of variations in $y$ explainable by the linear regression.\n",
    "A higher $R^2$ indicates a better fit.\n",
    "\n",
    "\n",
    "The residual mean square is commonly used as an estimator of $\\sigma^2$:\n",
    "$$\n",
    "\\hat \\sigma^2 = \\frac{({\\bf y} - {\\bf X} \\hat {\\mathbf \\beta})^T  ({\\bf y} - {\\bf X} \\hat {\\mathbf \\beta})}{(N-k-1)}.\n",
    "$$\n",
    "Unlike $\\hat{\\mathbf \\beta}$, $\\hat \\sigma^2$ is not the maximum likelihood estimator of\n",
    "$\\sigma^2$ under normality assumption."
   ]
  },
  {
   "cell_type": "markdown",
   "metadata": {
    "slideshow": {
     "slide_type": "slide"
    }
   },
   "source": [
    "## Does the linear regression help at all?\n",
    "\n",
    "It does not help when\n",
    "$\n",
    "H_0: \\beta_1 = \\beta_2 = \\cdots = \\beta_k = 0.\n",
    "$\n",
    "\n",
    "In this case, the mean sum of squares due to regression is not much different from the mean sum of squares\n",
    "due to residual. \n",
    "\n",
    "If their ratio is near 1, then $H_0$ is not disputed by data. \n",
    "If their ratio is large, then $H_0$ is seriously challenged by the data.\n",
    "\n",
    "For this reason, we formally define\n",
    "$$\n",
    "F \n",
    "= \n",
    "\\frac{(\\hat{\\mathbf \\beta}^T {\\bf X}^T {\\bf X}\\hat{\\mathbf \\beta} \n",
    "-  \\bar {\\bf y}^t \\bar {\\bf y})/k}\n",
    "{({\\bf y} - {\\bf X} \\hat{\\mathbf \\beta})^T ({\\bf y} - {\\bf X} \\hat{\\mathbf \\beta})/(N-k-1)}.\n",
    "$$"
   ]
  },
  {
   "cell_type": "markdown",
   "metadata": {
    "slideshow": {
     "slide_type": "slide"
    }
   },
   "source": [
    "## F-test\n",
    "\n",
    "In principle, if $F_{obs}$ is large, we reject $H_0: \\beta_1 = \\beta_2 = \\cdots = \\beta_k = 0$.\n",
    "\n",
    "\n",
    "We need a reference distribution or judge the largeness of $F_{obs}$,\n",
    "\n",
    "Under null, the sample distribution of this statistic is F -distribution with\n",
    "$k$ and $N-k-1$ degrees of freedoms. \n",
    "\n",
    "If $H_0$ is violated, then the behavior of the statistic $F$ tilts toward the \n",
    "upper end of the\n",
    "F-distribution. \n",
    "\n",
    "The chance of observing stronger evidence against $H_0$, when $H_0$ is in fact the true, \n",
    "is given by\n",
    "$\n",
    "P\\{ F > F_{obs}\\}\n",
    "$."
   ]
  },
  {
   "cell_type": "code",
   "execution_count": 35,
   "metadata": {},
   "outputs": [
    {
     "name": "stdout",
     "output_type": "stream",
     "text": [
      "[1] 1.0134695 0.7496754\n"
     ]
    },
    {
     "data": {
      "image/png": "[encoded data removed]",
      "text/plain": [
       "Plot with title “Histogram of ff”"
      ]
     },
     "metadata": {},
     "output_type": "display_data"
    }
   ],
   "source": [
    "## Let us check how large F-random variables get\n",
    "\n",
    "ff = rf(2000, 3, 100)\n",
    "print(c(mean(ff), var(ff)))\n",
    "hist(ff, 20)"
   ]
  },
  {
   "cell_type": "markdown",
   "metadata": {
    "slideshow": {
     "slide_type": "slide"
    }
   },
   "source": [
    "## P-value\n",
    "\n",
    "We call $P\\{ F > F_{obs}\\}$ the **p-value** of the test against $H_0$.\n",
    "\n",
    "A somewhat artificial standard such as $0.05$ is commonly adopted as\n",
    "the cut-off point. \n",
    "\n",
    "When a p-value is lower than $0.05$, we reject the\n",
    "null hypothesis at level $0.05$. \n",
    "(The same discussion given for t-test is applicable here).\n"
   ]
  },
  {
   "cell_type": "code",
   "execution_count": 36,
   "metadata": {},
   "outputs": [
    {
     "name": "stdout",
     "output_type": "stream",
     "text": [
      "          V1   V2   V3     V4\n",
      "[1,] 1 18.00 27.8 96.0 1011.7\n",
      "[2,] 1 27.75 26.9 69.3  944.0\n",
      "[3,] 1  8.00 34.5 14.4  976.9\n",
      "[4,] 1 25.30 31.3 93.3  958.7\n",
      "[5,] 1 18.00 28.4 59.8  871.4\n",
      "[1] 51  5\n"
     ]
    },
    {
     "data": {
      "image/png": "[encoded data removed]",
      "text/plain": [
       "plot without title"
      ]
     },
     "metadata": {},
     "output_type": "display_data"
    }
   ],
   "source": [
    "## Back to data example\n",
    "\n",
    "#This data set has 4 x-variables and one response variable y.\n",
    "\n",
    "\n",
    "xx = read.table(\"JeffData1a14.txt\")\n",
    "x = as.matrix(xx)\n",
    "y = x[, 5]\n",
    "x = cbind(rep(1, 51), x[,1:4])\n",
    "print(x[1:5,])\n",
    "\n",
    "print(dim(x))\n",
    "plot(x[,2], y)\n",
    "\n",
    "# Not too bad: the average y value given x[,2] is roughly linear with negative slope."
   ]
  },
  {
   "cell_type": "markdown",
   "metadata": {
    "slideshow": {
     "slide_type": "slide"
    }
   },
   "source": [
    "## Model in this case:\n",
    "\n",
    "Number of observations (not replicates) N= 51.\n",
    "Number of x-variables (independent/prediction/...): k=4\n",
    "\n",
    "Model in mathematical form:\n",
    "$$\n",
    "y_i = \\beta_0 + \\beta_1 x_{i1} + \\beta_2 x_{i2} + \\beta_3 x_{i3} + \\beta_4 x_{i4} + \\epsilon_i\n",
    "$$\n",
    "\n",
    "In long form:\n",
    "$$\n",
    "y_1 = \\beta_0 + \\beta_1 x_{11} + \\beta_2 x_{12} + \\beta_3 x_{13} + \\beta_4 x_{14} + \\epsilon_1\n",
    "$$\n",
    "$$\n",
    "y_2 = \\beta_0 + \\beta_1 x_{21} + \\beta_2 x_{22} + \\beta_3 x_{23} + \\beta_4 x_{24} + \\epsilon_2\n",
    "$$\n",
    "$$\n",
    "y_3 = \\beta_0 + \\beta_1 x_{31} + \\beta_2 x_{32} + \\beta_3 x_{33} + \\beta_4 x_{34} + \\epsilon_3\n",
    "$$\n",
    "$$\n",
    "...$$\n",
    "\n",
    "The design matrix ${\\bf X}$ is given by\n",
    "$$\n",
    "1, x_{11},  x_{12},   x_{13},   x_{14}\\\\\n",
    "1, x_{21},  x_{22},   x_{23},   x_{24}\\\\\n",
    "1, x_{21},  x_{22},   x_{23},   x_{34}\\\\\n",
    "...\n",
    "$$\n",
    "\n",
    "The regression coefficient ${\\bf \\beta}$ is $(\\beta_0, \\beta_1, \\beta_2, \\beta_3, \\beta_4)^T$."
   ]
  },
  {
   "cell_type": "code",
   "execution_count": 37,
   "metadata": {
    "slideshow": {
     "slide_type": "slide"
    }
   },
   "outputs": [
    {
     "name": "stdout",
     "output_type": "stream",
     "text": [
      "          [,1]\n",
      "   439.9743265\n",
      "V1  -6.2926938\n",
      "V2  -6.1717964\n",
      "V3   0.2766188\n",
      "V4   0.5209879\n"
     ]
    },
    {
     "data": {
      "image/png": "[encoded data removed]",
      "text/plain": [
       "plot without title"
      ]
     },
     "metadata": {},
     "output_type": "display_data"
    }
   ],
   "source": [
    "## Computing the least squares estimator of $\\beta$:\n",
    "\n",
    "betahat = solve(t(x)%*%x)%*%t(x)%*%y\n",
    "\n",
    "print(betahat)\n",
    "\n",
    "par(mfrow=c(2,2)); plot(x[,2], y); plot(x[,3], y);plot(x[,4], y);plot(x[,5], y)\n",
    "\n",
    "## The plots shows the negative slopes seem reasonable."
   ]
  },
  {
   "cell_type": "code",
   "execution_count": 38,
   "metadata": {
    "slideshow": {
     "slide_type": "slide"
    }
   },
   "outputs": [
    {
     "data": {
      "image/png": "[encoded data removed]",
      "text/plain": [
       "Plot with title “Normal Q-Q Plot”"
      ]
     },
     "metadata": {},
     "output_type": "display_data"
    }
   ],
   "source": [
    "## Residual\n",
    "\n",
    "rr = y - x%*%betahat\n",
    "yhat = x%*%betahat\n",
    "\n",
    "par(mfrow=c(2,2));\n",
    "\n",
    "hist(rr); plot(rr); qqnorm(rr); plot(yhat, y)"
   ]
  },
  {
   "cell_type": "code",
   "execution_count": 39,
   "metadata": {
    "slideshow": {
     "slide_type": "slide"
    }
   },
   "outputs": [
    {
     "name": "stdout",
     "output_type": "stream",
     "text": [
      "[1]  0.5034254 63.3045783  0.7095248\n"
     ]
    }
   ],
   "source": [
    "## R^2 and sigmahat^2\n",
    "yhat = x%*%betahat; rr = y - yhat \n",
    "ybar = mean(y)*matrix(1, 51, 1)\n",
    "\n",
    "RR = sum((yhat - ybar)^2)/sum((y - ybar)^2)\n",
    "sigmahat= (sum(rr^2)/(51-4-1))^.5\n",
    "\n",
    "print(c(RR, sigmahat, cor(y, yhat)))"
   ]
  },
  {
   "cell_type": "code",
   "execution_count": 40,
   "metadata": {
    "slideshow": {
     "slide_type": "slide"
    }
   },
   "outputs": [
    {
     "name": "stdout",
     "output_type": "stream",
     "text": [
      "[1] 1.165866e+01 1.280212e-06\n"
     ]
    }
   ],
   "source": [
    "## F-test\n",
    "\n",
    "FF = (sum((yhat - ybar)^2)/4)/(sum((y - yhat)^2)/(51-4-1))\n",
    "\n",
    "pvalue = 1- pf(FF, 4, 46)\n",
    "\n",
    "print(c(FF, pvalue))"
   ]
  },
  {
   "cell_type": "code",
   "execution_count": 41,
   "metadata": {
    "slideshow": {
     "slide_type": "slide"
    }
   },
   "outputs": [
    {
     "data": {
      "text/plain": [
       "\n",
       "Call:\n",
       "lm(formula = y ~ xx)\n",
       "\n",
       "Residuals:\n",
       "     Min       1Q   Median       3Q      Max \n",
       "-151.942  -30.757    2.443   41.201  115.262 \n",
       "\n",
       "Coefficients:\n",
       "            Estimate Std. Error t value Pr(>|t|)    \n",
       "(Intercept) 439.9743   171.8339   2.560 0.013801 *  \n",
       "xxV1         -6.2927     1.7155  -3.668 0.000632 ***\n",
       "xxV2         -6.1718     1.8726  -3.296 0.001895 ** \n",
       "xxV3          0.2766     0.1843   1.501 0.140249    \n",
       "xxV4          0.5210     0.1499   3.476 0.001122 ** \n",
       "---\n",
       "Signif. codes:  0 ‘***’ 0.001 ‘**’ 0.01 ‘*’ 0.05 ‘.’ 0.1 ‘ ’ 1\n",
       "\n",
       "Residual standard error: 63.3 on 46 degrees of freedom\n",
       "Multiple R-squared:  0.5034,\tAdjusted R-squared:  0.4602 \n",
       "F-statistic: 11.66 on 4 and 46 DF,  p-value: 1.28e-06\n"
      ]
     },
     "metadata": {},
     "output_type": "display_data"
    }
   ],
   "source": [
    "## single line solution\n",
    "\n",
    "xx = x[,-1]   # the first column is intercept is automatically added in R function\n",
    "\n",
    "output = lm(y ~ xx)\n",
    "summary(output)"
   ]
  },
  {
   "cell_type": "markdown",
   "metadata": {
    "slideshow": {
     "slide_type": "slide"
    }
   },
   "source": [
    "## Click question:\n",
    "\n",
    "Should we discuss more?\n",
    "\n",
    "A: Yes; B: No; C: Maybe"
   ]
  },
  {
   "cell_type": "markdown",
   "metadata": {
    "slideshow": {
     "slide_type": "slide"
    }
   },
   "source": [
    "## Lecture 2.3 One-way layout.\n",
    "\n",
    "### Single Factor with multiple levels\n",
    "\n",
    "T-test is to compare two treatments.\n",
    "\n",
    "We now consider the situation where more than two treatments derived from\n",
    "a single factor are being investigated.\n",
    "\n",
    "To be called a single factor experiment, these treatments should have the same nature.\n",
    "\n",
    "For example, fertilizers of various kinds or mixtures; \n",
    "temperature at different levels, \n",
    "medicine of several kinds, or medicine at various dosages. "
   ]
  },
  {
   "cell_type": "markdown",
   "metadata": {
    "slideshow": {
     "slide_type": "slide"
    }
   },
   "source": [
    "### Example of fake single factor problem\n",
    "\n",
    "Suppose the chemical yield is the response, \n",
    "temperature (high, low), pressure (high, low)\n",
    "are the factors under investigation. \n",
    "\n",
    "The level combinations form an artificial factor with\n",
    "4 levels. (low, low), (low, high), (high, low) and (high, high). \n",
    "\n",
    "Yet we do not regard such an experiment a single factor experiment.\n",
    "\n",
    "**these four levels are more meaningfully linked which may permit better modeling**."
   ]
  },
  {
   "cell_type": "code",
   "execution_count": 42,
   "metadata": {},
   "outputs": [
    {
     "ename": "ERROR",
     "evalue": "Error in parse(text = x, srcfile = src): <text>:1:5: unexpected symbol\n1: The levels\n        ^\n",
     "output_type": "error",
     "traceback": [
      "Error in parse(text = x, srcfile = src): <text>:1:5: unexpected symbol\n1: The levels\n        ^\nTraceback:\n"
     ]
    }
   ],
   "source": [
    "The levels of a single factor may have some intrinsic relations \n",
    "such as temperature at $10, 20, 30, 40$ degrees.\n",
    "\n",
    "The levels can be 3 different medicines which are not\n",
    "quantitatively linked.\n",
    "\n",
    "The **simplest question** the statistical analysis can help to answer is \n",
    "whether these treatments are similar in terms of the mean response value."
   ]
  },
  {
   "cell_type": "markdown",
   "metadata": {
    "slideshow": {
     "slide_type": "slide"
    }
   },
   "source": [
    "### Notation\n",
    "\n",
    "Assume the responses to $k$-treatments are compared. \n",
    "\n",
    "We assume that $N = n_1 + n_2 + \\cdots + n_k$ experimental units \n",
    "are randomly assigned to\n",
    "$k$ treatments with $n_1, n_2, \\ldots, n_k$ units each.\n",
    "\n",
    "The outcomes are usually denoted as $y_{ij}$ which is the reading of the units\n",
    "assigned $i$th treatment, $j$th replication."
   ]
  },
  {
   "cell_type": "markdown",
   "metadata": {
    "slideshow": {
     "slide_type": "slide"
    }
   },
   "source": [
    "### Model\n",
    "\n",
    "A linear model for this set up is\n",
    "\\[\n",
    "y_{ij} = \\eta + \\tau_i + \\epsilon_{ij}\n",
    "\\]\n",
    "for $i= 1, 2, \\ldots, k$, and $j=1, 2, \\ldots, n_i$.\n",
    "\n",
    "We assume $\\eta$ is the overall mean, $\\tau_i$ is the mean response from\n",
    "the $i$th treatment after subtracting the overall mean. \n",
    "\n",
    "The error term $\\epsilon_{ij}$\n",
    "is what cannot be explained by **the treatment effect** $\\tau_i$."
   ]
  },
  {
   "cell_type": "markdown",
   "metadata": {
    "slideshow": {
     "slide_type": "slide"
    }
   },
   "source": [
    "### Model assumptions\n",
    "\n",
    "The statistical analysis is often done based on the assumption that\n",
    "\\[\n",
    "\\epsilon_{ij} \\sim N(0, \\sigma^2)\n",
    "\\]\n",
    "and they are independent of each other. \n",
    "\n",
    "The set up on $\\eta, \\tau_i$ is not so much as\n",
    "any restrictions. This will be explained in class in more details.\n",
    "\n",
    "The normality assumption and the equal variance assumption are the ones\n",
    "that may be violated in the real world. "
   ]
  },
  {
   "cell_type": "markdown",
   "metadata": {
    "slideshow": {
     "slide_type": "slide"
    }
   },
   "source": [
    "### How to check the validity of these assumptions?\n",
    "\n",
    "* We have little means to check the normality assumption when the sample size is low. I do not recommend any formal or rigorous test. Histogram or normal plot are useful.\n",
    "\n",
    "* The equal variance assumption can be examined based on data. Often, F-test is recommended.\n",
    "\n",
    "* Since $\\eta$ is the overall mean, some mathematical restrictions apply to the sizes of $\\tau_i$ which will be discussed later."
   ]
  },
  {
   "cell_type": "markdown",
   "metadata": {
    "slideshow": {
     "slide_type": "slide"
    }
   },
   "source": [
    "## Let start with an example (pp 45, Wu and Hamada)\n",
    "\n",
    "Consider an experiment performed at a pulp mill.\n",
    "\n",
    "Plant performance (response variable) is pulp brightness, in reflectance meter.\n",
    "\n",
    "Four shift operators ($k=4$ treatments) are compared in the experiment.\n",
    "\n",
    "Each operator (treatment) produced 5 pulp sheets.\n",
    "\n",
    "The data are seen next"
   ]
  },
  {
   "cell_type": "markdown",
   "metadata": {
    "slideshow": {
     "slide_type": "slide"
    }
   },
   "source": [
    "### Data\n",
    "\n",
    "| operator | 1 | 2 | 3 | 4 | 5 |\n",
    "| --- | --- | --- | --- | --- | --- |\n",
    "| A: | 59.8 | 60.0 | 60.8 | 60.8 | 59.8 |\n",
    "| B: | 59.8 | 60.2 | 60.4 | 59.9 | 60.0 |\n",
    "| C: | 60.7 | 60.7 | 60.5 | 60.9 | 60.3 |\n",
    "| D: | 61.0 | 60.8 | 60.6 | 60.5 | 60.5 |\n",
    "\n"
   ]
  },
  {
   "cell_type": "markdown",
   "metadata": {
    "slideshow": {
     "slide_type": "slide"
    }
   },
   "source": [
    "### Randomization\n",
    "\n",
    "Do not know exactly how the original experiment was conducted.\n",
    "\n",
    "In our imagination, 20 containers (experimental units) must be employed.\n",
    "\n",
    "To enforce randomization, each operator should work on randomly chosen 5 containers.\n",
    "\n",
    "There are totally ${20 \\choose {5 5 5 5}} = 1.17 \\times 10^{10}$ different allocations.\n",
    "\n"
   ]
  },
  {
   "cell_type": "markdown",
   "metadata": {
    "slideshow": {
     "slide_type": "slide"
    }
   },
   "source": [
    "### Replication\n",
    "\n",
    "Clearly, the number of replicates for each treatment (operator) is 5.\n",
    "\n",
    "Question: \n",
    "\n",
    "* does it result in $35$ replicates if each sheet 7 times is measured 7 times? \n",
    "* does it result in $35$ replicates if one made 7 sheets from materials in the same container?\n",
    "\n",
    "Use your clicker to choose one of the following answers:\n",
    "\n",
    "A: YY; B: YN; C: NY; D: NN; E: no idea"
   ]
  },
  {
   "cell_type": "markdown",
   "metadata": {
    "slideshow": {
     "slide_type": "slide"
    }
   },
   "source": [
    "### Blocking\n",
    "\n",
    "No blocking issue is indicated here.\n",
    "\n",
    "What do you think?"
   ]
  },
  {
   "cell_type": "markdown",
   "metadata": {
    "slideshow": {
     "slide_type": "slide"
    }
   },
   "source": [
    "### Intuitive but easily justified estimtes\n",
    "\n",
    "Let\n",
    "\n",
    "* $\\bar{y}_{i \\cdot} = \\frac{y_{i1} + y_{i2} + \\cdots + y_{i n_i}}{n_i}$;\n",
    "* $\\bar{y}_{\\cdot j} = \\frac{y_{1j} + y_{2j} + \\cdots + y_{kj}}{k}$;\n",
    "* $\\bar{y}_{\\cdot \\cdot} = \\frac{\\sum_{i,j} y_{ij}}{N}$.\n",
    "\n",
    "The following estimates of parameters are generally used:\n",
    "\n",
    "* $\\hat \\eta = \\bar{y}_{..}; ~~~\\hat \\tau_i = \\bar{y}_{i \\cdot} - \\bar{y}_{..}$.\n",
    "\n",
    "Each observed value can be decomposed as\n",
    "\n",
    "$\n",
    "y_{ij} \n",
    " = \\bar{y}_{..} + (\\bar{y}_{i \\cdot} - \\bar{y}_{..}) + (y_{ij} - \\bar{y}_i)\n",
    " = \\hat \\eta + \\hat \\tau_i + r_{ij}.\n",
    "$\n",
    "\n"
   ]
  },
  {
   "cell_type": "markdown",
   "metadata": {
    "slideshow": {
     "slide_type": "slide"
    }
   },
   "source": [
    "## What is the question this experiment aims to answer?\n",
    "\n",
    "Do these treatments have different effects in terms of brightness of the pulp sheets they produce?\n",
    "\n",
    "In statistical language: test the hypothesis that $H_0: \\tau_1 = \\tau_2 = \\cdots = \\tau_k = 0$.\n",
    "\n",
    "* If their sum is 0 and they are equal, then all of them must be zero.\n",
    "\n",
    "#### Whether they are all zero or not is best reflected in the size of\n",
    "\n",
    "$SS_{Trt} = n_1\\hat \\tau_1^2 + n_2\\hat \\tau_2^2 + \\cdots + n_k\\hat\\tau_k^2 \n",
    "= \\sum_{i=1}^k n_i(\\bar y_{i\\cdot} - \\bar{y}_{\\cdot \\cdot})^2.$\n",
    "\n",
    "* We call this quantity treatment sum of squares.\n",
    "\n",
    "\n"
   ]
  },
  {
   "cell_type": "markdown",
   "metadata": {
    "slideshow": {
     "slide_type": "slide"
    }
   },
   "source": [
    "## F-test\n",
    "\n",
    "Is SS$_{Trt}$ sufficiently large to justify rejecting $H_0$?\n",
    "\n",
    "* We compare its size against residual sum of squares\n",
    "\n",
    "$\\mbox{SS}_{err} = \\sum_{i=1}^k \\sum_{j=1}^{n_i} (y_{ij} - \\bar y_{i\\cdot})^2$\n",
    "\n",
    "This leads to the Analysis of Variance Table."
   ]
  },
  {
   "cell_type": "markdown",
   "metadata": {
    "slideshow": {
     "slide_type": "slide"
    }
   },
   "source": [
    "## F-distribution\n",
    "\n",
    "Under linear model with normalility assumption on error distribution,\n",
    "\n",
    "$F = \\mbox{MSS}_{Trt}/\\mbox{MSS}_{err}$ has F-distribution with $k-1$ and $N-k$ degrees of freedom when $H_0$ is true.\n",
    "\n",
    "With a distribution not dependent on unknown parameters, we know most common F-values.\n",
    "\n",
    "An unusually large realized value, $F_{obs}$, indicates the treatment sum of square is likely inflated due to\n",
    "unequal $\\tau_i$ values.\n",
    "\n",
    "\n",
    "Hence, we compute p-value as $P( F > F_{obs})$ and reject $H_0$ when p-value is small (than 5%).\n"
   ]
  },
  {
   "cell_type": "markdown",
   "metadata": {
    "slideshow": {
     "slide_type": "slide"
    }
   },
   "source": [
    "## ANOVE for One-way layout\n",
    "\n",
    "| Source | D of Freedom |     Sum of squares(  space holder ) |   MSS (more space holder)| F (more space) |\n",
    "| --- | --- | --------- | --- | ---|\n",
    "|Treatment | $k-1$ | SS$_{trt}=\\sum_{i=1}^kn_i(\\bar y_{i \\cdot}-\\bar y_{\\cdot\\cdot})^2$ | MSS $_{trt}=\\mbox{SS}_{trt}/(k-1)$ | MSS$_{trt}/\\mbox{MSS}_{err}$\n",
    "|Residual | $N-k$ | SS$_{err} =\\sum_{i=1}^k \\sum_{j=1}^{n_i} ( y_{i j} - \\bar y_{i \\cdot})^2$ | MSS$_{err}$ = SS$_{err}/(N-k)$| \n",
    "|Total | $N-1$ | SS$_{tot} = \\sum_{i=1}^k \\sum_{j=1}^{n_i} ( y_{i j} - \\bar y_{\\cdot \\cdot})^2$ |\n",
    "\n",
    "\n",
    "The F-statistic is defined to be\n",
    "$F = \\mbox{MSS}_{Trt}/\\mbox{MSS}_{err}.$"
   ]
  },
  {
   "cell_type": "code",
   "execution_count": null,
   "metadata": {
    "slideshow": {
     "slide_type": "slide"
    }
   },
   "outputs": [],
   "source": [
    "### Data and quick calculations\n",
    "\n",
    "| operator | 1 | 2 | 3 | 4 | 5 | mean |\n",
    "| --- | --- | --- | --- | --- | --- | --- |\n",
    "| A: | 59.8 | 60.0 | 60.8 | 60.8 | 59.8 | 59.8 |\n",
    "| B: | 59.8 | 60.2 | 60.4 | 59.9 | 60.0 | 59.8 |\n",
    "| C: | 60.7 | 60.7 | 60.5 | 60.9 | 60.3 | 60.7 |\n",
    "| D: | 61.0 | 60.8 | 60.6 | 60.5 | 60.5 | 61.0 |\n",
    "\n",
    "\n",
    "\n",
    "Grand mean: ${\\bar y}_{\\cdot \\cdot} = 60.4$.\n"
   ]
  },
  {
   "cell_type": "markdown",
   "metadata": {
    "slideshow": {
     "slide_type": "slide"
    }
   },
   "source": [
    "### Sum of Squares for treatment \n",
    "\n",
    "* SS$_{trt}=\\sum_{i=1}^k n_i(\\bar y_{i \\cdot}-\\bar y_{\\cdot\\cdot})^2$\n",
    "\n",
    "* MSS $_{trt}=\\mbox{SS}_{trt}/(k-1)$\n"
   ]
  },
  {
   "cell_type": "code",
   "execution_count": null,
   "metadata": {
    "slideshow": {
     "slide_type": "slide"
    }
   },
   "outputs": [],
   "source": [
    "### Code in R\n",
    "\n",
    "aa = c(59.8, 60.0, 60.8, 60.8, 59.8)\n",
    "bb = c(59.8, 60.2, 60.4, 59.9, 60.0)\n",
    "cc = c(60.7, 60.7, 60.5, 60.9, 60.3)\n",
    "dd = c(61.0, 60.8, 60.6, 60.5, 60.5)\n",
    "yy = c(aa, bb, cc, dd)\n",
    "\n",
    "aabar = mean(aa); bbbar = mean(bb); ccbar = mean(cc); ddbar = mean(dd); yybar = mean(yy)\n",
    "\n",
    "SS.trt = 5*((aabar - yybar)^2+(bbbar - yybar)^2 + (ccbar - yybar)^2 + (ddbar - yybar)^2)\n",
    "\n",
    "MSS.trt = SS.trt/(4-1)\n",
    "\n",
    "print(SS.trt)\n",
    "print(MSS.trt)"
   ]
  },
  {
   "cell_type": "markdown",
   "metadata": {
    "slideshow": {
     "slide_type": "slide"
    }
   },
   "source": [
    "## ANOVE for One-way layout\n",
    "\n",
    "| Source | D of Freedom |     Sum of squares(  space holder ) |   MSS (more space holder)| F (more space) |\n",
    "| --- | --- | --------- | --- | ---|\n",
    "|Treatment | 3 | 1.34 | 0.447 | MSS$_{trt}/\\mbox{MSS}_{err}$\n",
    "|Residual | $N-k$ | SS$_{err} =\\sum_{i=1}^k \\sum_{j=1}^{n_i} ( y_{i j} - \\bar y_{i \\cdot})^2$ | MSS$_{err}$ = SS$_{err}/(N-k)$| \n",
    "|Total | $N-1$ | SS$_{tot} = \\sum_{i=1}^k \\sum_{j=1}^{n_i} ( y_{i j} - \\bar y_{\\cdot \\cdot})^2$ |\n",
    "\n",
    "\n",
    "The F-statistic is defined to be\n",
    "$F = \\mbox{MSS}_{Trt}/\\mbox{MSS}_{err}.$"
   ]
  },
  {
   "cell_type": "markdown",
   "metadata": {
    "slideshow": {
     "slide_type": "slide"
    }
   },
   "source": [
    "### Sum of Squares for error\n",
    "\n",
    "* SS$_{err} =\\sum_{i=1}^k \\sum_{j=1}^{n_i} ( y_{i j} - \\bar y_{i \\cdot})^2$ \n",
    "\n",
    "* MSS$_{err}$ = SS$_{err}/(N-k)$"
   ]
  },
  {
   "cell_type": "code",
   "execution_count": null,
   "metadata": {
    "slideshow": {
     "slide_type": "slide"
    }
   },
   "outputs": [],
   "source": [
    "## Code in R\n",
    "\n",
    "aa = c(59.8, 60.0, 60.8, 60.8, 59.8)\n",
    "bb = c(59.8, 60.2, 60.4, 59.9, 60.0)\n",
    "cc = c(60.7, 60.7, 60.5, 60.9, 60.3)\n",
    "dd = c(61.0, 60.8, 60.6, 60.5, 60.5)\n",
    "yy = c(aa, bb, cc, dd)\n",
    "aabar = mean(aa); bbbar = mean(bb); ccbar = mean(cc); ddbar = mean(dd); yybar = mean(yy)\n",
    "\n",
    "SS.e = sum((aa - aabar)^2)+sum((bb-bbbar)^2)+sum((cc-ccbar)^2) + sum((dd-ddbar)^2)\n",
    "\n",
    "MSS.e = SS.e/(20-4)\n",
    "\n",
    "print(SS.e);  print(MSS.e)"
   ]
  },
  {
   "cell_type": "markdown",
   "metadata": {
    "slideshow": {
     "slide_type": "slide"
    }
   },
   "source": [
    "## ANOVE for One-way layout\n",
    "\n",
    "| Source | D of Freedom |     Sum of squares(  space holder ) |   MSS (more space holder)| F (more space) |\n",
    "| --- | --- | --------- | --- | ---|\n",
    "|Treatment | 3 | 1.34 | 0.447 | MSS$_{trt}/\\mbox{MSS}_{err}$\n",
    "|Residual | 16 | 1.7 | 0.106| \n",
    "|Total | $N-1$ | SS$_{tot} = \\sum_{i=1}^k \\sum_{j=1}^{n_i} ( y_{i j} - \\bar y_{\\cdot \\cdot})^2$ |\n",
    "\n",
    "\n",
    "The F-statistic is defined to be\n",
    "$F = \\mbox{MSS}_{Trt}/\\mbox{MSS}_{err}.$"
   ]
  },
  {
   "cell_type": "markdown",
   "metadata": {
    "slideshow": {
     "slide_type": "slide"
    }
   },
   "source": [
    "### Total Sum of Squares:\n",
    "\n",
    "\n",
    "SS$_{tot} = \\sum_{i=1}^k \\sum_{j=1}^{n_i} ( y_{i j} - \\bar y_{\\cdot \\cdot})^2$\n",
    "\n",
    "\n",
    "Remark: it is not used statistically. But it should equal the sum of the other two.\n",
    "\n"
   ]
  },
  {
   "cell_type": "code",
   "execution_count": null,
   "metadata": {
    "slideshow": {
     "slide_type": "slide"
    }
   },
   "outputs": [],
   "source": [
    "## Code in R\n",
    "\n",
    "aa = c(59.8, 60.0, 60.8, 60.8, 59.8)\n",
    "bb = c(59.8, 60.2, 60.4, 59.9, 60.0)\n",
    "cc = c(60.7, 60.7, 60.5, 60.9, 60.3)\n",
    "dd = c(61.0, 60.8, 60.6, 60.5, 60.5)\n",
    "yy = c(aa, bb, cc, dd)\n",
    "\n",
    "MSS.tot = sum( (yy - mean(yy))^2)\n",
    "\n",
    "print(MSS.tot)\n",
    "\n",
    "0.447/0.106"
   ]
  },
  {
   "cell_type": "markdown",
   "metadata": {
    "slideshow": {
     "slide_type": "slide"
    }
   },
   "source": [
    "## ANOVE for One-way layout (almost complete)\n",
    "\n",
    "| Source | D of Freedom |     Sum of squares(  space holder ) |   MSS (more space holder)| F (more space) |\n",
    "| --- | --- | --------- | --- | ---|\n",
    "|Treatment | 3 | 1.34 | 0.447 | 0.447/0.106 = 4.270\n",
    "|Residual | 16 | 1.7 | 0.106| \n",
    "|Total | 19 | 3.04 |\n",
    "\n",
    "\n",
    "p-value = pf(4.270, 3, 16, lower.tail=F)= 0.021\n",
    "\n"
   ]
  },
  {
   "cell_type": "code",
   "execution_count": null,
   "metadata": {},
   "outputs": [],
   "source": [
    "p.value = pf(4.270, 3, 16, lower.tail=F)\n",
    "\n",
    "print(p.value)"
   ]
  },
  {
   "cell_type": "code",
   "execution_count": null,
   "metadata": {
    "slideshow": {
     "slide_type": "slide"
    }
   },
   "outputs": [],
   "source": [
    "## standard R function for one-way anova\n",
    "## we first organize the data into required data.frame format.\n",
    "\n",
    "trt = c(rep(\"aa\",5), rep(\"bb\", 5), rep(\"cc\", 5), rep(\"dd\", 5))\n",
    "pulp.data = data.frame(yy, trt)\n",
    "\n",
    "SS.tot = sum((yy-mean(yy))^2) \n",
    "## extra calculation for other purposes.\n",
    "\n",
    "pulp.aov <- aov(yy ~ trt, pulp.data)\n",
    "summary(pulp.aov)\n",
    "print(c(\"SS.tot=\", SS.tot))\n"
   ]
  },
  {
   "cell_type": "markdown",
   "metadata": {},
   "source": [
    "ANOVA table:\n",
    "\n",
    "\n",
    "| Source | D.F. |  SS | MSS |  F |\n",
    "|---| ---| ---| ---| --- |\n",
    "|Operator | $3$  |  1.34  |  .447 | 4.20 |\n",
    "|Residual | $16$ |  1.70  | ${\\bf .106}$ |   |\n",
    "| Total | $19$ | 3.04 |  |  |\n",
    "\n"
   ]
  },
  {
   "cell_type": "markdown",
   "metadata": {},
   "source": [
    "Although the formal anova indicates these operators produced pulps with significantly different mean reflectance values, a look at the actual values may not be so impressive.\n",
    "\n",
    "The sample means of the responses of these operators are given by\n",
    "\n",
    "\n",
    "| A | B | C | D |\n",
    "|---|---|---|---|\n",
    "59.8 | 59.8 | 60.7 | 61.0 |\n",
    "\n",
    "\n",
    "The maximum difference of 1.2 is only about 2% of the overall average.\n",
    "\n",
    "The test is significant because the MSS of the residual is even smaller.\n"
   ]
  },
  {
   "cell_type": "markdown",
   "metadata": {
    "slideshow": {
     "slide_type": "slide"
    }
   },
   "source": [
    "## Lecture 2.3 Some math and statistics\n",
    "\n",
    "In the last data example, we find SS.trt = 1.34; SS.err = 1.70, Hence, SS.trt + SS.e = 3.04.\n",
    "\n",
    "It is easy to find SS.tot = sum((yy-mean(yy))^2) = 3.04.\n",
    "\n",
    "It is not by accident that SS.trt + SS.err = SS.tot.\n",
    "\n",
    "We work out the math now."
   ]
  },
  {
   "cell_type": "markdown",
   "metadata": {
    "slideshow": {
     "slide_type": "slide"
    }
   },
   "source": [
    "Note that $~~~y_{ij} - \\bar{y}_{\\cdot \\cdot} = (y_{i\\cdot} - \\bar{y}_{\\cdot \\cdot}) + (y_{ij} - \\bar{y}_{i\\cdot})$.\n",
    "\n",
    "Square both sides: $~~~(y_{ij} - \\bar{y}_{\\cdot \\cdot})^2 = (y_{i\\cdot} - \\bar{y}_{\\cdot \\cdot})^2 + (y_{ij} - \\bar{y}_{i\\cdot})^2 + 2(y_{i\\cdot} - \\bar{y}_{\\cdot \\cdot})(y_{ij} - \\bar{y}_{i\\cdot}) $.\n",
    "\n",
    "Sum over both $i$ and $j$, we find\n",
    "\n",
    "$\\sum_{i=1}^k \\sum_{j=1}^{n_i} (y_{ij} - \\bar{y}_{\\cdot \\cdot})^2 \n",
    "= \\sum_{i=1}^k n_i (y_{i\\cdot} - \\bar{y}_{\\cdot \\cdot})^2 \n",
    "+ \\sum_{i=1}^k \\sum_{j=1}^{n_i}(y_{ij} - \\bar{y}_{i\\cdot})^2 \n",
    "+ 2 \\sum_{i=1}^k \\sum_{j=1}^{n_i} (y_{i\\cdot} - \\bar{y}_{\\cdot \\cdot})(y_{ij} - \\bar{y}_{i\\cdot}) $.\n",
    "\n",
    "Namely, we have\n",
    "$~~~$\n",
    "SS$_{tot}$ = SS$_{trt}$ + SS$_{err}$ + \n",
    "$2 \\sum_{i=1}^k \\sum_{j=1}^{n_i} (y_{i\\cdot} - \\bar{y}_{\\cdot \\cdot})(y_{ij} - \\bar{y}_{i\\cdot})$.\n",
    "\n",
    "**almost there except for the unwanted** \n",
    "$~~~2 \\sum_{i=1}^k \\sum_{j=1}^{n_i} (y_{i\\cdot} - \\bar{y}_{\\cdot \\cdot})(y_{ij} - \\bar{y}_{i\\cdot})$"
   ]
  },
  {
   "cell_type": "markdown",
   "metadata": {
    "slideshow": {
     "slide_type": "slide"
    }
   },
   "source": [
    "Within $~~~2 \\sum_{i=1}^k \\sum_{j=1}^{n_i} (y_{i\\cdot} - \\bar{y}_{\\cdot \\cdot})(y_{ij} - \\bar{y}_{i\\cdot})$,\n",
    "we find\n",
    "\n",
    "$~~~\n",
    "\\sum_{j=1}^{n_i} (y_{i\\cdot} - \\bar{y}_{\\cdot \\cdot})(y_{ij} - \\bar{y}_{i\\cdot})\n",
    "=\n",
    " (y_{i\\cdot} - \\bar{y}_{\\cdot \\cdot})\\sum_{j=1}^{n_i} (y_{ij} - \\bar{y}_{i\\cdot})\n",
    "= \n",
    " (y_{i\\cdot} - \\bar{y}_{\\cdot \\cdot}) \\times 0 = 0$.\n",
    " \n",
    "\n",
    "Hence, SS$_{tot}$ = SS$_{trt}$ + SS$_{err}$ is implied from\n",
    "\n",
    "$~~~$\n",
    "SS$_{tot}$ = SS$_{trt}$ + SS$_{err}$ + \n",
    "$2 \\sum_{i=1}^k \\sum_{j=1}^{n_i} (y_{i\\cdot} - \\bar{y}_{\\cdot \\cdot})(y_{ij} - \\bar{y}_{i\\cdot})$.\n",
    "\n"
   ]
  },
  {
   "cell_type": "markdown",
   "metadata": {
    "slideshow": {
     "slide_type": "slide"
    }
   },
   "source": [
    "## Interpretations:\n",
    "\n",
    "SS$_{tot} = \\sum_{i=1}^k \\sum_{j=1}^{n_i} (y_{ij} - \\bar{y}_{\\cdot \\cdot})^2$ \n",
    "measures how much each response value in the experiment \n",
    "differ from the overall mean.\n",
    "\n",
    "SS$_{trt} = \\sum_{i=1}^k n_i (y_{i\\cdot} - \\bar{y}_{\\cdot \\cdot})^2$ measures \n",
    "how much each group mean differ from the overall mean. It is hence called \n",
    "**between treatment sum of squares.**\n",
    "\n",
    "SS$_{err} = \\sum_{i=1}^k \\sum_{j=1}^{n_i}(y_{ij} - \\bar{y}_{i\\cdot})^2$ measures\n",
    "how much each response differ from its treatment mean. It is also called\n",
    "**within treatment sum of squares.**\n",
    "\n",
    "The fact that SS$_{tot}$ = SS$_{trt}$ + SS$_{err}$ reveals that the overall variation/variance\n",
    "is perfectly decomposed into variation between treatment means and the variation within treatment.\n",
    "\n",
    "F-test compares these two types of variations. \n",
    "\n",
    "The analysis is hence called analysis of variance.\n"
   ]
  },
  {
   "cell_type": "markdown",
   "metadata": {
    "slideshow": {
     "slide_type": "slide"
    }
   },
   "source": [
    "## Normal distribution, Chisquare distribution and F-distribution\n",
    "\n",
    "If random variables X and Y are **jointly** normally distributed, \n",
    "then $aX+bY+c$ is also normally distributed for any non-random constants $a, b, c$.\n",
    "\n",
    "This conclusion generalizes to any number of jointly normal random variables.\n",
    "\n",
    "Normal distribution is parameterized by its mean (expectation) and variance. Its density\n",
    "function is given by\n",
    "\n",
    "$\\phi(x; \\mu, \\sigma) = \\frac{1}{\\sqrt{2\\pi} \\sigma} \\exp( - \\frac{(x - \\mu)^2}{2 \\sigma^2}).$\n",
    "\n",
    "Non-statistic major students may find it not useful to memorize that the above expression.\n",
    "\n",
    "If jointly normal $X$ and $Y$ have 0-covariance, then they are independent."
   ]
  },
  {
   "cell_type": "markdown",
   "metadata": {
    "slideshow": {
     "slide_type": "slide"
    }
   },
   "source": [
    "### Concept of distribution via simulation\n",
    "\n",
    "* A simple outcome does not reveal anything about a distribution\n",
    "\n",
    "* A set of realized values paint a picture of a distribution.\n",
    "\n",
    "* Let us run a few lines of code to demostrate these points.\n"
   ]
  },
  {
   "cell_type": "markdown",
   "metadata": {
    "slideshow": {
     "slide_type": "slide"
    }
   },
   "source": [
    "## Chisquare distribution\n",
    "\n",
    "When $\\mu = 0$ and $\\sigma^2 = 1$, the corresponding normal random variable is called standard normal.\n",
    "\n",
    "Suppose $Z_1, Z_2, \\ldots, Z_m$ are iid standard normal random variables, then the\n",
    "distribution of $Z_1^2 + Z_2^2 + \\cdots + Z_m^2$ is chisquare with $m$ degrees of freedom.\n",
    "\n",
    "Clearly, if $\\chi_3^2$ and $\\chi_5^2$ are two independent chisquare distributed random variables\n",
    "with 3 and 5 degrees of freedom, then $\\chi_3^2 +\\chi_5^2$ has chisquare distribution with 8 degrees of freedom.\n",
    "\n",
    "\n"
   ]
  },
  {
   "cell_type": "markdown",
   "metadata": {
    "slideshow": {
     "slide_type": "slide"
    }
   },
   "source": [
    "## Chisquare distribution from quadratic forms.\n",
    "\n",
    "Suppose $Z_1, Z_2, \\ldots, Z_m$ are normal random variables but not independent, is it still possible\n",
    "$Z_1^2 + Z_2^2 + \\cdots + Z_m^2$ has chiquare distribution?\n",
    "\n",
    "The answer is yes but only for special cases.\n",
    "\n",
    "Let $X = (Z_1, Z_2, \\ldots, Z_m)'$ be a multivariate normal vector with $E(X) = 0$ and $Var(X) = I_m$.\n",
    "\n",
    "Let $A$ be a symmetric and positive definite matrix.\n",
    "\n",
    "**Theorem 2.1**: If $A*A = A$, then $X'AX$ has chiquare distribution with $tr(A)$ degrees of freedom.\n"
   ]
  },
  {
   "cell_type": "markdown",
   "metadata": {
    "slideshow": {
     "slide_type": "slide"
    }
   },
   "source": [
    "## Well known example.\n",
    "\n",
    "Let $X_1, X_2, \\ldots, X_n$ be iid $N(\\mu, \\sigma^2)$ random variables.\n",
    "\n",
    "Let $S^2 = \\sum (X_i - \\bar X)^2$. Then $S^2/\\sigma^2$ has chisquare distribution with df = $n-1$.\n",
    "\n",
    "\n",
    "**Proof**: Let $Z_i = (X_i - \\mu)/\\sigma$. Then $Z_i$ is N(0, 1) and \n",
    "\n",
    "$S^2/\\sigma^2 = \\sum [(X_i-\\mu)/\\sigma - (\\bar X-\\mu)/\\sigma]^2 = \\sum (Z_i - \\bar Z)^2$.\n",
    "\n",
    "Hence, we need only prove the case where $\\mu=0, \\sigma=1$.\n",
    "\n",
    "Let $X = (X_1, X_2, \\ldots, X_n)'$ and $A = I - n^{-1} {\\mathbf 1}{\\mathbf 1}'$.\n"
   ]
  },
  {
   "cell_type": "markdown",
   "metadata": {
    "slideshow": {
     "slide_type": "slide"
    }
   },
   "source": [
    "We note that $Var(X) = I$ and $A*A = A$.\n",
    "\n",
    "Hence, $S^2 = X'AX$ has chiquare distribution with $df = tr(A) = n - 1$.\n",
    "\n",
    "This completes the proof.\n",
    "\n",
    "\n",
    "* Recall that sample variance is defined as \n",
    "$\\frac{1}{n-1}\\sum (X_i - \\bar X)^2$ rather than $\\frac{1}{n}\\sum (X_i - \\bar X)^2$.\n"
   ]
  },
  {
   "cell_type": "markdown",
   "metadata": {
    "slideshow": {
     "slide_type": "slide"
    }
   },
   "source": [
    "## Between treatment sum of squares when $\\tau_i = 0$.\n",
    "\n",
    "* Recall\n",
    "$\\mbox{SS}_{trt} \n",
    "= \\sum_{i=1}^k n_i (y_{i\\cdot} - \\bar y_{\\cdot \\cdot})^2$.\n",
    "\n",
    "* Define $~~\\check y_{\\cdot \\cdot} = N^{-1} \\sum_{i=1}^k \\sqrt{n_i} y_{i\\cdot}$,\n",
    "which is the mean of $\\sqrt{n_i} y_{i\\cdot}$ and the weighted mean of $y_{i\\cdot}$.\n",
    "\n",
    "* It can be verified that\n",
    "$\\mbox{SS}_{trt} \n",
    "=\n",
    "\\sum_{i=1}^k n_i (y_{i\\cdot} - \\bar y_{\\cdot \\cdot})^2\n",
    "=\\sum_{i=1}^k (\\sqrt{n_i} y_{i\\cdot} - \\check y_{\\cdot \\cdot})^2\n",
    "$.\n",
    "\n",
    "* Let \n",
    "$z_{i} = \\sqrt{n_i} (y_{i\\cdot}-\\eta)$. It is seen $z_1, z_2, \\ldots, z_k$ are iid N($0, \\sigma^2$).\n",
    "\n",
    "\n",
    "* Hence $\\mbox{SS}_{trt}$ is the \"sample variance\" of $k$ iid normal random variables.\n",
    "Therefore, it has $\\sigma^2 \\chi^2_{k-1}$."
   ]
  },
  {
   "cell_type": "markdown",
   "metadata": {
    "slideshow": {
     "slide_type": "slide"
    }
   },
   "source": [
    "## F-distribution\n",
    "\n",
    "Suppose $\\chi_m^2$ and $\\chi_n^2$ are two indpendent random variables\n",
    "with chisquare distributions and $m$, $n$ degrees of freedom.\n",
    "\n",
    "Then random variable $~~ F = \\frac{\\chi_m^2/m}{ \\chi_n^2/n}$ has F-distribution\n",
    "with $m, n$ degrees of freedom.\n",
    "\n",
    "\n",
    "**Detailed knowledge about Normal, chisquare and F is not part of our syllabus. However, we need them to explain our data analysis strategy in DoE.** \n"
   ]
  },
  {
   "cell_type": "markdown",
   "metadata": {
    "slideshow": {
     "slide_type": "slide"
    }
   },
   "source": [
    "## SS in one-way layout.\n",
    "\n",
    "* First, for one-way layout, the model assumption is $y_{ij} \\sim N(\\eta + \\tau_i, \\sigma^2)$\n",
    "and they are independent of each other.\n",
    "\n",
    "* For each $i$,\n",
    "$\n",
    "\\mbox{SS}_i = \\sum_{j=1}^{n_i} (y_{ij} - \\bar y_{i \\cdot})^2\n",
    "$\n",
    "is the \"sample variance\" of iid $y_{i1}, y_{i2}, \\ldots, y_{i n_i}$.\n",
    "\n",
    "* By **Theorem 2.1** two slides ago, $\\mbox{SS}_i/\\sigma^2 \\sim \\chi^2_{n_i-1}$.\n",
    "\n",
    "* The independence assumption on $y_{ij}$ implies \n",
    "$\\mbox{SS}_1, \\mbox{SS}_2, \\cdots, \\mbox{SS}_k$ are independent.\n",
    "\n",
    "* The sum of independent chisquare random variables is also chisquare distributed,\n",
    "hence\n",
    "\n",
    "$\n",
    "\\mbox{SS}_{err}\n",
    "=  \n",
    "\\sum_{i=1}^k \\sum_{j=1}^{n_i} (y_{ij} - \\bar y_{i \\cdot})^2\n",
    "=\n",
    "\\sum_{i=1}^k \\mbox{SS}_i \n",
    "\\sim \n",
    "\\sigma^2 \\chi^2_{(n_1-1) + (n_2 -1) + \\cdots + (n_k-1)}= \\sigma^2 \\chi^2_{N-k}.\n",
    "$\n",
    "\n",
    "** This result is for within treatment sum of squares."
   ]
  },
  {
   "cell_type": "markdown",
   "metadata": {
    "slideshow": {
     "slide_type": "slide"
    }
   },
   "source": [
    "## F-distribution under $H_0: \\tau_1 = \\tau_2 = \\cdots = \\tau_k = 0$.\n",
    "\n",
    "We have shown that under $H_0$:\n",
    "$\\mbox{SS}_{err}\\sim \\sigma^2 \\chi^2_{N-k}$ \n",
    "and \n",
    "$\\mbox{SS}_{trt} \\sim \\sigma^2 \\chi^2_{k-1}$.\n",
    "\n",
    "If they are independent, then \n",
    "$F = \\frac{\\mbox{SS}_{trt}/(K-1)}{\\mbox{SS}_{err}/(N-K)} \n",
    "=  \n",
    "\\frac{\\mbox{MSS}_{trt}}{\\mbox{MSS}_{err}}\n",
    "\\sim F_{k-1, N-K}$\n",
    "as claimed earlier.\n",
    "\n",
    "* The independence claim is true because \n",
    "$Cov(\\sqrt{n_i} y_{i\\cdot} - \\check y_{\\cdot \\cdot}, y_{ij} - \\bar y_{i \\cdot})=0$.\n",
    "\n",
    "**This will be a bonus assignment question.**"
   ]
  },
  {
   "cell_type": "markdown",
   "metadata": {
    "slideshow": {
     "slide_type": "slide"
    }
   },
   "source": [
    "## What happens if $H_0$ is violated and $H_a$ is true\n",
    "\n",
    "* Recall we find\n",
    "$\\mbox{SS}_{trt} \n",
    "=\n",
    "\\sum_{i=1}^k (\\sqrt{n_i} y_{i\\cdot} - \\check y_{\\cdot \\cdot})^2\n",
    "$\n",
    " which remains the \"sample variance\" of $z_{i} = \\sqrt{n_i} (y_{i\\cdot}-\\eta)$. \n",
    "\n",
    "* However, $z_1, z_2, \\ldots, z_k$ are no longer iid because $Z_i \\sim N(\\tau_i, \\sigma^2)$.\n",
    "\n",
    "* By probability theory, $\\sum z_i^2$ has a **noncentral**\n",
    "chisquare distribution with $k-1$ degrees of freedom and noncentral parameter\n",
    "$\\delta^2 = \\sum_{i=1}^k \\tau_i^2$.\n",
    "\n",
    "* As a result, the distribution of $F = \\frac{\\mbox{MSS}_{trt}}{\\mbox{MSS}_{err}}$\n",
    "is called noncentral F distribution with noncentral parameter\n",
    "$\\delta^2$"
   ]
  },
  {
   "cell_type": "markdown",
   "metadata": {
    "slideshow": {
     "slide_type": "slide"
    }
   },
   "source": [
    "### Statistical implicatioin\n",
    "\n",
    "Both noncentral chisquare and noncentral F distributions are stochastically larger given the\n",
    "same degrees of freedom(s).\n",
    "\n",
    "Denote $\\chi_k^2(\\delta)$ and $F_{m,n}(\\delta)$ as random variable \n",
    "with noncentral chisquare and noncentral F distributions.\n",
    "\n",
    "* For any positive value $c$, we have\n",
    " - $P(\\chi_k^2(\\delta) > c) > P(\\chi_k^2(0) > c)$; $P(F_{m,n}(\\delta) > c) > P(F_{m,n}(0) > c)$.\n",
    "\n",
    "\n",
    "* The above result shows that when $H_a$ is true, \n",
    "$F_{obs}$ has higher probability to take a large value.\n",
    "\n",
    "* Consequently, p-value computed as $P(F > F_{obs})$ has higher probability to be\n",
    "smaller. \n",
    "\n",
    "* Therefore, $H_0$ is rejected with higher probability when it is false.\n"
   ]
  },
  {
   "cell_type": "markdown",
   "metadata": {
    "slideshow": {
     "slide_type": "slide"
    }
   },
   "source": [
    "## Clicker question to be added."
   ]
  }
 ],
 "metadata": {
  "celltoolbar": "Slideshow",
  "kernelspec": {
   "display_name": "R",
   "language": "R",
   "name": "ir"
  },
  "language_info": {
   "codemirror_mode": "r",
   "file_extension": ".r",
   "mimetype": "text/x-r-source",
   "name": "R",
   "pygments_lexer": "r",
   "version": "3.6.1"
  }
 },
 "nbformat": 4,
 "nbformat_minor": 2
}
